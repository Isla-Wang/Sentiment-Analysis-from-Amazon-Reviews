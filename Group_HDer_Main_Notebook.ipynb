{
 "cells": [
  {
   "cell_type": "markdown",
   "id": "5b95c282",
   "metadata": {},
   "source": [
    "# Sentiment Analysis from text \n",
    "**Group:** HDer  \n",
    "**Group Members:**  \n",
    "Shu Wang (z5211077) (Group Leader)  \n",
    "Wanxiao Huang (z5222629)   \n",
    "Wanting Zhou (z5347036)  \n",
    "Kanghong Yu (z5413510)  \n",
    "Yinglu  Yang (z5390317)  \n",
    "\n",
    "\n",
    "# Introduction and Data Source\n",
    "### Introduction and Motivation\n",
    "Sentiment analysis from text is done in order to identify subjective information in it and understand the opinions, feelings, and sentiments emanating from the text. (definition from https://www.repustate.com/blog/text-sentiment-analysis/)  \n",
    "Sentiment analysis is very necessary. It can allow companies to understand the voice of users, improve products in time, and even guide product development to help companies develop better.  \n",
    "### Problem Statement and Data Source of our Project\n",
    "In our project, we do sentiment analysis from Amazon Reviews. You could find the data here: https://www.kaggle.com/datasets/bittlingmayer/amazonreviews    \n",
    "The dataset contains a training set and a testing set, each is in bz2 format. The training set contains 3,600,000 records, and the testing set contains 400,000 records.  \n",
    "Each records in both datasets consists of a label and a review.  \n",
    "The label is either `__label__1` or `__label__2`. A review after `__label__1` is a 1- or 2-star review, which is a negative review. A review after `__label__2` is a 4- or 5-star review, which is a positive review. There are no neutral reviews (i.e. 3-star reviews) in this dataset.  \n",
    "### Purpose of our Project\n",
    "Our project aims to learn reviews and labels in the training set of Amazon Reviews dataset, and then predict labels of unseen reviews in the testing set; this turns our problem to a binary classification problem. From sentiment analysis view, our project aims to learn sentiments of reviews in the training set, and analyze sentiments of unseen reviews in testing set."
   ]
  },
  {
   "cell_type": "code",
   "execution_count": 80,
   "id": "0a1504e9",
   "metadata": {},
   "outputs": [],
   "source": [
    "import numpy as np\n",
    "import pandas as pd\n",
    "import re\n",
    "import torch\n",
    "from time import time\n",
    "import bz2 # to decompress the dataset\n",
    "import matplotlib.pyplot as plt\n",
    "from sklearn.model_selection import train_test_split\n",
    "import warnings # ignore warnings\n",
    "warnings.filterwarnings('ignore')\n",
    "from gensim.models import Word2Vec \n",
    "from gensim.models import KeyedVectors\n",
    "import multiprocessing\n",
    "from collections import Counter, OrderedDict\n",
    "device = torch.device('cuda') if torch.cuda.is_available() else torch.device('cpu')"
   ]
  },
  {
   "cell_type": "code",
   "execution_count": 83,
   "id": "27b0793e",
   "metadata": {},
   "outputs": [
    {
     "name": "stdout",
     "output_type": "stream",
     "text": [
      "Version of Pytorch: 1.11.0+cu113\n"
     ]
    }
   ],
   "source": [
    "print('Version of Pytorch: ' + str(torch.__version__))"
   ]
  },
  {
   "cell_type": "code",
   "execution_count": 2,
   "id": "417089d9",
   "metadata": {},
   "outputs": [],
   "source": [
    "# define paths\n",
    "train_path = \"input/train.ft.txt.bz2\"\n",
    "test_path = \"input/test.ft.txt.bz2\"\n",
    "word2vec_path = \"word2vec.wordvectors\"\n",
    "word2vec_npy_path = \"word2vec.wordvectors.vectors.npy\"\n",
    "index2word_path = \"index2word.npy\"\n",
    "word2index_path = \"word2index.npy\"\n",
    "index2vec_path = \"index2vec.npy\"\n",
    "train_ids_npy_path = \"train_ids.npy\"\n",
    "test_ids_npy_path = \"test_ids.npy\"\n",
    "train_label_npy_path = \"train_labels.npy\"\n",
    "test_label_npy_path = \"test_labels.npy\""
   ]
  },
  {
   "cell_type": "markdown",
   "id": "adb88ed3",
   "metadata": {},
   "source": [
    "# Exploratory Data Analysis (Pre-Processing)  \n",
    "In this part, we will give several examples of records in both classes (`__label__1` and `__label__2`).  \n",
    "Then I will **Clean Reviews** because there are words that are meaningless to sentiment analysis, like numbers, urls, and typos. There are also special characters, like punctuation that need to be delete.  \n",
    "Then we will build a **Word2Vec** using cleaned reviews in the training set. "
   ]
  },
  {
   "cell_type": "markdown",
   "id": "8f9091ef",
   "metadata": {},
   "source": [
    "## Read data\n",
    "If you want to run this code, please download the bz2 files from https://www.kaggle.com/datasets/bittlingmayer/amazonreviews , and put them into the directory of this notebook."
   ]
  },
  {
   "cell_type": "code",
   "execution_count": 5,
   "id": "b4bed0e5",
   "metadata": {},
   "outputs": [],
   "source": [
    "def decompress(file):\n",
    "    '''\n",
    "        Function to decompress the bz2 file \n",
    "        and return list of lines\n",
    "    '''\n",
    "    lines = []\n",
    "    for line in bz2.BZ2File(file):\n",
    "        x = line.decode(\"utf-8\")\n",
    "        lines.append(x)\n",
    "    return lines"
   ]
  },
  {
   "cell_type": "code",
   "execution_count": 4,
   "id": "629b6ce7",
   "metadata": {},
   "outputs": [],
   "source": [
    "# get lines of train and test\n",
    "train_lines = decompress(train_path)\n",
    "test_lines = decompress(test_path)"
   ]
  },
  {
   "cell_type": "markdown",
   "id": "cf4d13d3",
   "metadata": {},
   "source": [
    "### Examples of Reviews in each Class\n",
    "Then show several lines of both sets to see how the data looks like."
   ]
  },
  {
   "cell_type": "code",
   "execution_count": 29,
   "id": "9f31b80f",
   "metadata": {},
   "outputs": [
    {
     "name": "stdout",
     "output_type": "stream",
     "text": [
      "The first 5 lines of training set:\n",
      "__label__2 Stuning even for the non-gamer: This sound track was beautiful! It paints the senery in your mind so well I would recomend it even to people who hate vid. game music! I have played the game Chrono Cross but out of all of the games I have ever played it has the best music! It backs away from crude keyboarding and takes a fresher step with grate guitars and soulful orchestras. It would impress anyone who cares to listen! ^_^\n",
      "\n",
      "__label__2 The best soundtrack ever to anything.: I'm reading a lot of reviews saying that this is the best 'game soundtrack' and I figured that I'd write a review to disagree a bit. This in my opinino is Yasunori Mitsuda's ultimate masterpiece. The music is timeless and I'm been listening to it for years now and its beauty simply refuses to fade.The price tag on this is pretty staggering I must say, but if you are going to buy any cd for this much money, this is the only one that I feel would be worth every penny.\n",
      "\n",
      "__label__2 Amazing!: This soundtrack is my favorite music of all time, hands down. The intense sadness of \"Prisoners of Fate\" (which means all the more if you've played the game) and the hope in \"A Distant Promise\" and \"Girl who Stole the Star\" have been an important inspiration to me personally throughout my teen years. The higher energy tracks like \"Chrono Cross ~ Time's Scar~\", \"Time of the Dreamwatch\", and \"Chronomantique\" (indefinably remeniscent of Chrono Trigger) are all absolutely superb as well.This soundtrack is amazing music, probably the best of this composer's work (I haven't heard the Xenogears soundtrack, so I can't say for sure), and even if you've never played the game, it would be worth twice the price to buy it.I wish I could give it 6 stars.\n",
      "\n",
      "__label__2 Excellent Soundtrack: I truly like this soundtrack and I enjoy video game music. I have played this game and most of the music on here I enjoy and it's truly relaxing and peaceful.On disk one. my favorites are Scars Of Time, Between Life and Death, Forest Of Illusion, Fortress of Ancient Dragons, Lost Fragment, and Drowned Valley.Disk Two: The Draggons, Galdorb - Home, Chronomantique, Prisoners of Fate, Gale, and my girlfriend likes ZelbessDisk Three: The best of the three. Garden Of God, Chronopolis, Fates, Jellyfish sea, Burning Orphange, Dragon's Prayer, Tower Of Stars, Dragon God, and Radical Dreamers - Unstealable Jewel.Overall, this is a excellent soundtrack and should be brought by those that like video game music.Xander Cross\n",
      "\n",
      "__label__2 Remember, Pull Your Jaw Off The Floor After Hearing it: If you've played the game, you know how divine the music is! Every single song tells a story of the game, it's that good! The greatest songs are without a doubt, Chrono Cross: Time's Scar, Magical Dreamers: The Wind, The Stars, and the Sea and Radical Dreamers: Unstolen Jewel. (Translation varies) This music is perfect if you ask me, the best it can be. Yasunori Mitsuda just poured his heart on and wrote it down on paper.\n",
      "\n",
      "\n",
      "The first 5 lines of testing set:\n",
      "__label__2 Great CD: My lovely Pat has one of the GREAT voices of her generation. I have listened to this CD for YEARS and I still LOVE IT. When I'm in a good mood it makes me feel better. A bad mood just evaporates like sugar in the rain. This CD just oozes LIFE. Vocals are jusat STUUNNING and lyrics just kill. One of life's hidden gems. This is a desert isle CD in my book. Why she never made it big is just beyond me. Everytime I play this, no matter black, white, young, old, male, female EVERYBODY says one thing \"Who was that singing ?\"\n",
      "\n",
      "__label__2 One of the best game music soundtracks - for a game I didn't really play: Despite the fact that I have only played a small portion of the game, the music I heard (plus the connection to Chrono Trigger which was great as well) led me to purchase the soundtrack, and it remains one of my favorite albums. There is an incredible mix of fun, epic, and emotional songs. Those sad and beautiful tracks I especially like, as there's not too many of those kinds of songs in my other video game soundtracks. I must admit that one of the songs (Life-A Distant Promise) has brought tears to my eyes on many occasions.My one complaint about this soundtrack is that they use guitar fretting effects in many of the songs, which I find distracting. But even if those weren't included I would still consider the collection worth it.\n",
      "\n",
      "__label__1 Batteries died within a year ...: I bought this charger in Jul 2003 and it worked OK for a while. The design is nice and convenient. However, after about a year, the batteries would not hold a charge. Might as well just get alkaline disposables, or look elsewhere for a charger that comes with batteries that have better staying power.\n",
      "\n",
      "__label__2 works fine, but Maha Energy is better: Check out Maha Energy's website. Their Powerex MH-C204F charger works in 100 minutes for rapid charge, with option for slower charge (better for batteries). And they have 2200 mAh batteries.\n",
      "\n",
      "__label__2 Great for the non-audiophile: Reviewed quite a bit of the combo players and was hesitant due to unfavorable reviews and size of machines. I am weaning off my VHS collection, but don't want to replace them with DVD's. This unit is well built, easy to setup and resolution and special effects (no progressive scan for HDTV owners) suitable for many people looking for a versatile product.Cons- No universal remote.\n",
      "\n"
     ]
    }
   ],
   "source": [
    "print('The first 5 lines of training set:')\n",
    "for i in range(5):\n",
    "    print(train_lines[i])\n",
    "print('\\nThe first 5 lines of testing set:')\n",
    "for i in range(5):\n",
    "    print(test_lines[i])"
   ]
  },
  {
   "cell_type": "code",
   "execution_count": 6,
   "id": "5ba533e8",
   "metadata": {
    "scrolled": true
   },
   "outputs": [
    {
     "data": {
      "text/plain": [
       "3600000"
      ]
     },
     "execution_count": 6,
     "metadata": {},
     "output_type": "execute_result"
    }
   ],
   "source": [
    "#len(train_lines)"
   ]
  },
  {
   "cell_type": "code",
   "execution_count": 7,
   "id": "0731d610",
   "metadata": {},
   "outputs": [
    {
     "data": {
      "text/plain": [
       "'__label__2 Stuning even for the non-gamer: This sound track was beautiful! It paints the senery in your mind so well I would recomend it even to people who hate vid. game music! I have played the game Chrono Cross but out of all of the games I have ever played it has the best music! It backs away from crude keyboarding and takes a fresher step with grate guitars and soulful orchestras. It would impress anyone who cares to listen! ^_^\\n'"
      ]
     },
     "execution_count": 7,
     "metadata": {},
     "output_type": "execute_result"
    }
   ],
   "source": [
    "#train_lines[0]"
   ]
  },
  {
   "cell_type": "markdown",
   "id": "16d2bca4",
   "metadata": {},
   "source": [
    "## Change labels\n",
    "Since labels are in format `__label__1` and `__label__2`, which is not easy to use when doing classification. Therefore, we change `__label__1` to 0 to represent negative class, and chaneg `__label__2` to 1 to represent positive class. Then the classification could be easily done by making output between 0 and 1, which is the probability of this review belongs to the positive class."
   ]
  },
  {
   "cell_type": "code",
   "execution_count": 8,
   "id": "c440b68a",
   "metadata": {},
   "outputs": [],
   "source": [
    "# change the label to number \n",
    "# 0 for label 1 and 1 for label 2\n",
    "# substitude labels\n",
    "train_new_label_lines = [re.sub('__label__1', '0', x) for x in train_lines]\n",
    "train_new_label_lines = [re.sub('__label__2', '1', x) for x in train_new_label_lines]\n",
    "\n",
    "test_new_label_lines = [re.sub('__label__1', '0', x) for x in test_lines]\n",
    "test_new_label_lines = [re.sub('__label__2', '1', x) for x in test_new_label_lines]"
   ]
  },
  {
   "cell_type": "code",
   "execution_count": 9,
   "id": "1710e1a4",
   "metadata": {},
   "outputs": [],
   "source": [
    "# get labels\n",
    "label_train = [x.split(' ')[0] for x in train_new_label_lines]\n",
    "label_test = [x.split(' ')[0] for x in test_new_label_lines]\n",
    "\n",
    "# get sentence\n",
    "train_sentence = [x[2:].lower() for x in train_new_label_lines]\n",
    "test_sentence = [x[2:].lower() for x in test_new_label_lines]"
   ]
  },
  {
   "cell_type": "code",
   "execution_count": 10,
   "id": "ce231ab5",
   "metadata": {},
   "outputs": [
    {
     "name": "stdout",
     "output_type": "stream",
     "text": [
      "Training set has balanced classes, each class has 1800000 reviews.\n",
      "Testing set has balanced classes, each class has 200000 reviews.\n"
     ]
    }
   ],
   "source": [
    "# I want check if the data has balanced classes\n",
    "if label_train.count('0') == label_train.count('1'):\n",
    "    print('Training set has balanced classes, each class has ' + str(label_train.count('0')) + ' reviews.')\n",
    "else:\n",
    "    print('Training set has imbalanced classes, positive has ' + str(label_train.count('1')) \n",
    "          + ' reviews, and negative class has ' + str(str(label_train.count('1'))) + ' reviews.')\n",
    "\n",
    "if label_test.count('0') == label_test.count('1'):\n",
    "    print('Testing set has balanced classes, each class has ' + str(label_test.count('0')) + ' reviews.')\n",
    "else:\n",
    "    print('Testning set has imbalanced classes, positive has ' + str(label_test.count('1')) \n",
    "          + ' reviews, and negative class has ' + str(str(label_test.count('1'))) + ' reviews.')"
   ]
  },
  {
   "cell_type": "markdown",
   "id": "c160e09e",
   "metadata": {},
   "source": [
    "We get half of both training set and testing set because the original datasets are too large."
   ]
  },
  {
   "cell_type": "code",
   "execution_count": 12,
   "id": "bd48b344",
   "metadata": {},
   "outputs": [],
   "source": [
    "# set the random state so we could get same samples\n",
    "_, sample_x_train, _, sample_y_train = train_test_split(train_sentence, label_train, test_size=0.5, random_state=9)\n",
    "_, sample_x_test, _, sample_y_test = train_test_split(test_sentence, label_test, test_size=0.5, random_state=9)"
   ]
  },
  {
   "cell_type": "code",
   "execution_count": 13,
   "id": "08b901b6",
   "metadata": {},
   "outputs": [
    {
     "name": "stdout",
     "output_type": "stream",
     "text": [
      "Training set has imbalanced classes, positive has 900945 reviews, and negative class has 899055 reviews.\n",
      "Testing set has imbalanced classes, positive has 99902 reviews, and negative class has 100098 reviews.\n"
     ]
    }
   ],
   "source": [
    "# I want check if the sample data has balanced classes\n",
    "if sample_y_train.count('0') == sample_y_train.count('1'):\n",
    "    print('Training set has balanced classes, each class has ' + str(sample_y_train.count('0')) + ' reviews.')\n",
    "else:\n",
    "    print('Training set has imbalanced classes, positive has ' + str(sample_y_train.count('1')) \n",
    "          + ' reviews, and negative class has ' + str(str(sample_y_train.count('0'))) + ' reviews.')\n",
    "\n",
    "if sample_y_test.count('0') == sample_y_test.count('1'):\n",
    "    print('Testing set has balanced classes, each class has ' + str(sample_y_test.count('0')) + ' reviews.')\n",
    "else:\n",
    "    print('Testing set has imbalanced classes, positive has ' + str(sample_y_test.count('1')) \n",
    "          + ' reviews, and negative class has ' + str(str(sample_y_test.count('0'))) + ' reviews.')"
   ]
  },
  {
   "cell_type": "markdown",
   "id": "26600458",
   "metadata": {},
   "source": [
    "As we could see, it is not really balance, but I think it is ok."
   ]
  },
  {
   "cell_type": "markdown",
   "id": "ba08d8a2",
   "metadata": {},
   "source": [
    "## Remove special characters\n",
    "1. remove \\n in the end if each sentence. We could delete it because it is just the line break and each line has it, so it is meaningless to the sentiment analysis.    \n",
    "2. use \\<num\\> for all numbers. My function covered formats like: '99', '99.00', '$99', '99,000'. We could delete numbers because the same number could have both positive and negative sentiment. For example, 12 could be in 'I recommend this to 12 friends', then it is a positive review, or it could be in 'it wasted 12 hours of my life', then it is negative. Numbers will also increase the number of total words in the vocabulary of the word vector model, so we just use \\<num\\> to replace them to keep the integrality of reviews.    \n",
    "3.use \\<url\\> for all website addresses. We do this also because urls are meaningless and will increase the size of the vocabulary.  \n",
    "4. remove all expect a-z0-9 and \\<\\> to remove punctuations and other special characters (because we have \\<num\\> for numbers, \\<unk\\> for words with low frequency, and \\<pad\\> for padding).  "
   ]
  },
  {
   "cell_type": "code",
   "execution_count": 14,
   "id": "6f62ee7d",
   "metadata": {},
   "outputs": [],
   "source": [
    "def remove_special_char(l):\n",
    "    '''\n",
    "        Remove special characters from list of sentences\n",
    "    '''\n",
    "    \n",
    "    no_special_char = re.compile('[^a-z0-9\\<\\>\\s+]')\n",
    "    # I find this pattern from https://blog.csdn.net/u012995500/article/details/106791568\n",
    "    url_pattern = r\"[http://|ftp://|https://|www]?[^\\u4e00-\\u9fa5\\s]*?\\.[com|net|cn|me|tw|fr][^\\u4e00-\\u9fa5\\s]*\"\n",
    "    \n",
    "    # first make a copy of l, because I do not want to change the original list\n",
    "    clean_l = [x for x in l]\n",
    "    for i in range(len(clean_l)):\n",
    "        clean_l[i] = re.sub('\\n', '', clean_l[i]) # delete \\n in the end of each sentence \n",
    "        clean_l[i] = re.sub(r'\\d+[\\.]*[\\d+]*[\\,\\d+]*[\\'s]*', ' <num> ', clean_l[i]) # use <num> to replace all numbers\n",
    "        if ('http:' in clean_l[i] or 'ftp:' in clean_l[i] or 'https:' in clean_l[i] or 'www.' in clean_l[i] \n",
    "        or '.com' in clean_l[i] or '.net' in clean_l[i] or '.cn' in clean_l[i] or '.me' in clean_l[i] or '.tw' in clean_l[i] or '.fr' in clean_l[i]):\n",
    "            clean_l[i] = re.sub(url_pattern, '<url>', clean_l[i]) # use <url> for all websites\n",
    "        clean_l[i] = re.sub(no_special_char, ' ', clean_l[i].lower()) # only keep a-z0-9 and <> for <num> and <url>\n",
    "        \n",
    "        # when I first tried the pre-processing, I found there are two words that are not seperated, like 'goodthe'\n",
    "        # I think this happens because sometimes there are no space after comma or fullstop\n",
    "        # so now I use a space to replace special characters, but this will cause more than one consecutive spaces\n",
    "        # when split by space, there will be empty words\n",
    "        # so I use one space to substitude 1 to n spaces, and then use strip to delete space at the begining and end or sentence\n",
    "        clean_l[i] = re.sub(r\"\\s+\", \" \", clean_l[i]) \n",
    "        clean_l[i] = clean_l[i].strip()\n",
    "                \n",
    "    return clean_l\n",
    "\n",
    "# do this for both datasets\n",
    "clean_x_train = remove_special_char(sample_x_train)\n",
    "clean_x_test = remove_special_char(sample_x_test)"
   ]
  },
  {
   "cell_type": "markdown",
   "id": "b2fea3a3",
   "metadata": {},
   "source": [
    "Since there are empty lines, if we split it directly, there will be errors, so fill the empty line with \\<unk\\>"
   ]
  },
  {
   "cell_type": "code",
   "execution_count": 17,
   "id": "496d82ef",
   "metadata": {},
   "outputs": [],
   "source": [
    "for i in range(len(clean_x_train)):\n",
    "    if clean_x_train[i] == '':\n",
    "        clean_x_train[i] = '<unk>'\n",
    "for i in range(len(clean_x_test)):\n",
    "    if clean_x_test[i] == '':\n",
    "        clean_x_test[i] = '<unk>'"
   ]
  },
  {
   "cell_type": "markdown",
   "id": "18da3e88",
   "metadata": {},
   "source": [
    "### Compare the cleaned and uncleaned reviews\n",
    "Use severial lines to see the result of cleaning."
   ]
  },
  {
   "cell_type": "code",
   "execution_count": 32,
   "id": "e4e6c554",
   "metadata": {},
   "outputs": [
    {
     "name": "stdout",
     "output_type": "stream",
     "text": [
      "Before cleaning:\n",
      "was this the album that was supposd to be sooo great?: well , i think it sucks. it is uninspired garbage. hopefully this album is the end of dmx's career. none of his albums have been any good. he might have made 3 or 4 good songs in his whole career. this album has so many different sounds that it's too hard to get into. it sounds like \" let's try this \", and that technique usually fails.\n",
      "\n",
      "After cleaning:\n",
      "was this the album that was supposd to be sooo great well i think it sucks it is uninspired garbage hopefully this album is the end of dmx s career none of his albums have been any good he might have made <num> or <num> good songs in his whole career this album has so many different sounds that it s too hard to get into it sounds like let s try this and that technique usually fails\n"
     ]
    }
   ],
   "source": [
    "print('Before cleaning:')\n",
    "print(sample_x_train[15])\n",
    "print('After cleaning:')\n",
    "print(clean_x_train[15])"
   ]
  },
  {
   "cell_type": "code",
   "execution_count": 36,
   "id": "846c1939",
   "metadata": {},
   "outputs": [
    {
     "name": "stdout",
     "output_type": "stream",
     "text": [
      "Before cleaning:\n",
      "........: ............ ..... ..... ...... ...... ....... ..... ....... ....... ........ ......... ........ ........ ..... ......... ..... ..... ...... .. ......\n",
      "\n",
      "After cleaning:\n",
      "<unk>\n"
     ]
    }
   ],
   "source": [
    "print('Before cleaning:')\n",
    "print(sample_x_train[1676189])\n",
    "print('After cleaning:')\n",
    "print(clean_x_train[1676189])"
   ]
  },
  {
   "cell_type": "markdown",
   "id": "5f554eff",
   "metadata": {},
   "source": [
    "Then split each review to a list of words because we need words to build word vectors."
   ]
  },
  {
   "cell_type": "code",
   "execution_count": 18,
   "id": "e00d17ad",
   "metadata": {},
   "outputs": [],
   "source": [
    "# I do not know why there is error 'float type do not have split'\n",
    "# => I found the reason, this is because there is NaN in the review column\n",
    "x_train_list = [x.split(' ') for x in clean_x_train]\n",
    "x_test_list = [x.split(' ') for x in clean_x_test]"
   ]
  },
  {
   "cell_type": "markdown",
   "id": "2b059c14",
   "metadata": {},
   "source": [
    "## Build word vector from training data using gensim\n",
    "### What is Word2Vec and why use it\n",
    "Since computer could only read numerical values, so we need to change words into numerical values. There are many ways to do this, like one-hot encoding and bag of words. We choose to use word vectors, because word vectors not only change words into numerial vectors, but also make words with similar sentiments closer to each other in the word vector space. This will be very helpful to our sentiment analysis.  \n",
    "# How to build Word2Vec using own data\n",
    "The idea to build word vectors is that words with similar contexts have similar sentiment.  \n",
    "There are 2 popular methods to build word vectors, the first is **CBOW** (continuous bag of words), which use given contexts to predict the word in the center, and the other is **Skip-gram**, which use the given center word to predict contexts. In this project, word vectors are built by feeding training reviews to the Skip-gram model using the Word2Vec in the genism module.   \n",
    "When training **Skip-gram**, we feed two words to the Skip-gram model and tell it they are neighbours. When testing the model, we also feed two words to it and ask it: what is the probability that they are neighbours. Therefore, we need negative sampling or the model will always answer one. Which means, we training the model, we need pairs of words that are neighbours, and we also need to make pairs of words that could not be neighbours, and feed them to the model.  \n",
    "\n",
    "I use following tutorials when building word vectors myself:  \n",
    "https://radimrehurek.com/gensim/models/word2vec.html (functions)  \n",
    "https://www.kaggle.com/code/pierremegret/gensim-word2vec-tutorial/notebook (train model)  \n",
    "https://radimrehurek.com/gensim/models/keyedvectors.html (store trained vector)  "
   ]
  },
  {
   "cell_type": "code",
   "execution_count": 20,
   "id": "5ae55f1b",
   "metadata": {},
   "outputs": [],
   "source": [
    "'''\n",
    "    parameters:\n",
    "    min_count: int, the word vector will not include words with frequency < min_count\n",
    "                so I set this to 2 to delete words that appears only once\n",
    "    window: int, number of neighbours [window target window]\n",
    "            I want to choose 3.\n",
    "    size: int, dimensionality of the vector, I think 100 is enough\n",
    "    sample: float, frequency of downsampling\n",
    "    alpha: float, initial learning rate\n",
    "    min_alpha: float, the min learning rate in the training process\n",
    "    negative: int, number of negative sampling\n",
    "    workers: int, faster if more users are used\n",
    "'''\n",
    "cores = multiprocessing.cpu_count()\n",
    "model = Word2Vec(vector_size=100, \n",
    "                 window=3, \n",
    "                 min_count=2,\n",
    "                 sample=6e-5,\n",
    "                 alpha=0.03, min_alpha=0.0008,\n",
    "                 negative=5, ns_exponent=0.75,\n",
    "                 workers=cores-2)"
   ]
  },
  {
   "cell_type": "markdown",
   "id": "31c6eb45",
   "metadata": {},
   "source": [
    "**Build vocab**  \n",
    "Build vocabulary from a sequence of sentences (can be a once-only generator stream)."
   ]
  },
  {
   "cell_type": "code",
   "execution_count": 23,
   "id": "8ec2181d",
   "metadata": {},
   "outputs": [
    {
     "name": "stdout",
     "output_type": "stream",
     "text": [
      "Time to build vocab: 0.8 mins\n"
     ]
    }
   ],
   "source": [
    "t = time()\n",
    "\n",
    "model.build_vocab(x_train_list,progress_per=50000)\n",
    "\n",
    "print('Time to build vocab: {} mins'.format(round((time() - t) / 60, 2)))"
   ]
  },
  {
   "cell_type": "markdown",
   "id": "d8016b99",
   "metadata": {},
   "source": [
    "**Train word vector**  \n",
    "Update the model’s neural weights from a sequence of sentences."
   ]
  },
  {
   "cell_type": "code",
   "execution_count": 25,
   "id": "df4935af",
   "metadata": {},
   "outputs": [
    {
     "name": "stdout",
     "output_type": "stream",
     "text": [
      "Time to train the model: 67.06 mins\n"
     ]
    }
   ],
   "source": [
    "t = time()\n",
    "\n",
    "model.train(x_train_list, total_examples=model.corpus_count, epochs=100, report_delay=1)\n",
    "\n",
    "print('Time to train the model: {} mins'.format(round((time() - t) / 60, 2)))"
   ]
  },
  {
   "cell_type": "markdown",
   "id": "6d31d1b4",
   "metadata": {},
   "source": [
    "#### Save trained word vector\n",
    "(we do this because training word vectors takes really a long time so we do not want to do this again)  \n",
    "This will save a **word2vec.wordvectors** file and a **word2vec.wordvectors.vectors.npy** file.  \n",
    "**word2vec.wordvectors** is in KeyedVector format, and **word2vec.wordvectors.vectors.npy** is an nd-array of vectors."
   ]
  },
  {
   "cell_type": "code",
   "execution_count": 30,
   "id": "154e3b10",
   "metadata": {
    "scrolled": true
   },
   "outputs": [],
   "source": [
    "word2vec = model.wv\n",
    "word2vec.save(word2vec_path)"
   ]
  },
  {
   "cell_type": "markdown",
   "id": "02cef2bc",
   "metadata": {},
   "source": [
    "Load vector:"
   ]
  },
  {
   "cell_type": "code",
   "execution_count": 38,
   "id": "be6dbe33",
   "metadata": {},
   "outputs": [],
   "source": [
    "# Load back with memory-mapping = read-only, shared across processes.\n",
    "word2vec = KeyedVectors.load(word2vec_path, mmap='r')\n",
    "\n",
    "# get index to words\n",
    "index2word = list(word2vec.index_to_key)\n",
    "# get words to index\n",
    "word2index = word2vec.key_to_index\n",
    "# .npy file version\n",
    "index2vec = np.load(word2vec_npy_path)"
   ]
  },
  {
   "cell_type": "markdown",
   "id": "3b339bca",
   "metadata": {},
   "source": [
    "This is the length of word vectors. It means that there are 247239 words appeared more than once in the training set."
   ]
  },
  {
   "cell_type": "code",
   "execution_count": 39,
   "id": "0f7dc9fc",
   "metadata": {},
   "outputs": [
    {
     "data": {
      "text/plain": [
       "247239"
      ]
     },
     "execution_count": 39,
     "metadata": {},
     "output_type": "execute_result"
    }
   ],
   "source": [
    "len(index2vec)"
   ]
  },
  {
   "cell_type": "markdown",
   "id": "47bc70e8",
   "metadata": {},
   "source": [
    "Now we could use **word2index** to find index for each word, and use **index2vec** to find the vector for each word.  \n",
    "But we need to add **\\<pad\\>** and **\\<unk\\>** to each list.   \n",
    "I read several posts about this and decide to use all 0's for \\<pad\\> and average vector for \\<unk\\>.  \n",
    "\n",
    "Use average vector for \\<unk\\>:   \n",
    "https://stackoverflow.com/questions/49239941/what-is-unk-in-the-pretrained-glove-vector-files-e-g-glove-6b-50d-txt"
   ]
  },
  {
   "cell_type": "code",
   "execution_count": 40,
   "id": "bc94049a",
   "metadata": {},
   "outputs": [],
   "source": [
    "# get vectors\n",
    "# <unk>:\n",
    "average_vec = np.mean(index2vec, axis=0)\n",
    "#print(average_vec)\n",
    "# <pad>:\n",
    "zero_vec = np.zeros(100, dtype=float)\n",
    "#print(zero_vec)\n",
    "\n",
    "# add to index2word\n",
    "index2word = index2word + ['<unk>', '<pad>']\n",
    "\n",
    "# add to word2index\n",
    "pad_and_unk = {\n",
    "    '<pad>':247240,\n",
    "    '<unk>':247239\n",
    "}\n",
    "word2index.update(pad_and_unk)\n",
    "\n",
    "# add to index to vector\n",
    "index2vec = np.append(index2vec, [average_vec, zero_vec], axis=0)"
   ]
  },
  {
   "cell_type": "markdown",
   "id": "f6c99881",
   "metadata": {},
   "source": [
    "Now I want to store the new version to .npy file."
   ]
  },
  {
   "cell_type": "code",
   "execution_count": 44,
   "id": "a2eb39b1",
   "metadata": {},
   "outputs": [],
   "source": [
    "np.save(index2word_path, index2word)\n",
    "np.save(word2index_path, word2index)\n",
    "np.save(index2vec_path, index2vec)\n",
    "del index2word, word2index, index2vec"
   ]
  },
  {
   "cell_type": "markdown",
   "id": "d833ede6",
   "metadata": {},
   "source": [
    "Then try to load them"
   ]
  },
  {
   "cell_type": "code",
   "execution_count": 45,
   "id": "bb08f09a",
   "metadata": {},
   "outputs": [],
   "source": [
    "index2word = np.load(index2word_path, allow_pickle=True)\n",
    "word2index = np.load(word2index_path, allow_pickle=True).item()\n",
    "index2vec = np.load(index2vec_path, allow_pickle=True)"
   ]
  },
  {
   "cell_type": "code",
   "execution_count": 46,
   "id": "89429ca4",
   "metadata": {},
   "outputs": [
    {
     "data": {
      "text/plain": [
       "array([0., 0., 0., 0., 0., 0., 0., 0., 0., 0., 0., 0., 0., 0., 0., 0., 0.,\n",
       "       0., 0., 0., 0., 0., 0., 0., 0., 0., 0., 0., 0., 0., 0., 0., 0., 0.,\n",
       "       0., 0., 0., 0., 0., 0., 0., 0., 0., 0., 0., 0., 0., 0., 0., 0., 0.,\n",
       "       0., 0., 0., 0., 0., 0., 0., 0., 0., 0., 0., 0., 0., 0., 0., 0., 0.,\n",
       "       0., 0., 0., 0., 0., 0., 0., 0., 0., 0., 0., 0., 0., 0., 0., 0., 0.,\n",
       "       0., 0., 0., 0., 0., 0., 0., 0., 0., 0., 0., 0., 0., 0., 0.])"
      ]
     },
     "execution_count": 46,
     "metadata": {},
     "output_type": "execute_result"
    }
   ],
   "source": [
    "# this is padding\n",
    "index2vec[247240]"
   ]
  },
  {
   "cell_type": "markdown",
   "id": "ee44339a",
   "metadata": {},
   "source": [
    "Try my word vector.  \n",
    "The model tells us words that are most similar to **nice** are 'neat', 'great', 'perfect', ...  \n",
    "Words that are most similar to **bad** are 'terrible', 'horrible', 'awful', ...  \n",
    "Therefore, my **Word2Vec** works well."
   ]
  },
  {
   "cell_type": "code",
   "execution_count": 49,
   "id": "e491cff2",
   "metadata": {},
   "outputs": [
    {
     "data": {
      "text/plain": [
       "[('neat', 0.7733117341995239),\n",
       " ('great', 0.7211542129516602),\n",
       " ('perfect', 0.7036304473876953),\n",
       " ('nifty', 0.6931633949279785),\n",
       " ('good', 0.6893448233604431),\n",
       " ('stylish', 0.6752407550811768),\n",
       " ('compact', 0.6616999506950378),\n",
       " ('attractive', 0.6606835126876831),\n",
       " ('cool', 0.6499606370925903),\n",
       " ('solid', 0.6488802433013916)]"
      ]
     },
     "execution_count": 49,
     "metadata": {},
     "output_type": "execute_result"
    }
   ],
   "source": [
    "word2vec.most_similar(positive=[\"nice\"])"
   ]
  },
  {
   "cell_type": "code",
   "execution_count": 50,
   "id": "83a3e0bc",
   "metadata": {},
   "outputs": [
    {
     "data": {
      "text/plain": [
       "[('horrible', 0.8299480080604553),\n",
       " ('terrible', 0.8204277157783508),\n",
       " ('awful', 0.7719299793243408),\n",
       " ('lousy', 0.7351741194725037),\n",
       " ('crappy', 0.7268240451812744),\n",
       " ('horrid', 0.7229216694831848),\n",
       " ('lame', 0.7025347352027893),\n",
       " ('aweful', 0.6950370669364929),\n",
       " ('stupid', 0.6816142797470093),\n",
       " ('sucky', 0.6804616451263428)]"
      ]
     },
     "execution_count": 50,
     "metadata": {},
     "output_type": "execute_result"
    }
   ],
   "source": [
    "word2vec.most_similar(positive=[\"bad\"])"
   ]
  },
  {
   "cell_type": "markdown",
   "id": "926f3c00",
   "metadata": {},
   "source": [
    "## Padding Reviews\n",
    "Since we need a fixed size of inputs to sentiment analysis models, and the input to models are batches of reviews, and each word in the review is a word vector, so we need to pad all reviews to the same length."
   ]
  },
  {
   "cell_type": "code",
   "execution_count": 51,
   "id": "c65b3347",
   "metadata": {},
   "outputs": [
    {
     "data": {
      "text/plain": [
       "258"
      ]
     },
     "execution_count": 51,
     "metadata": {},
     "output_type": "execute_result"
    }
   ],
   "source": [
    "# first get max lenght of sentence\n",
    "max_len = max(len(x) for x in x_train_list)\n",
    "max_len"
   ]
  },
  {
   "cell_type": "code",
   "execution_count": 52,
   "id": "bba27748",
   "metadata": {},
   "outputs": [],
   "source": [
    "sentence_len = []\n",
    "for i in x_train_list:\n",
    "    sentence_len.append(len(i))"
   ]
  },
  {
   "cell_type": "code",
   "execution_count": 53,
   "id": "f78d0293",
   "metadata": {},
   "outputs": [
    {
     "data": {
      "image/png": "[encoded data removed]",
      "text/plain": [
       "<Figure size 432x288 with 1 Axes>"
      ]
     },
     "metadata": {
      "needs_background": "light"
     },
     "output_type": "display_data"
    }
   ],
   "source": [
    "plt.hist(sentence_len, 50)\n",
    "plt.xlabel('sentence length')\n",
    "plt.ylabel('frequency')\n",
    "plt.show()"
   ]
  },
  {
   "cell_type": "code",
   "execution_count": 58,
   "id": "7a5d3fef",
   "metadata": {},
   "outputs": [
    {
     "name": "stdout",
     "output_type": "stream",
     "text": [
      "There are 99.86% of reviews have length shorter than or equal to 200 words.\n"
     ]
    }
   ],
   "source": [
    "# check percentage of reviews that is shorted than or equal to 200 words\n",
    "counter = 0\n",
    "for i in sentence_len:\n",
    "    if i <= 200:\n",
    "        counter += 1\n",
    "p = float(counter)/float(len(sentence_len))\n",
    "print('There are ' + str(round((p*100), 2)) + '% of reviews have length shorter than or equal to 200 words.')"
   ]
  },
  {
   "cell_type": "markdown",
   "id": "5a0aa410",
   "metadata": {},
   "source": [
    "Since there are 99.86% of reviews have length shorter than or equal to 200 words, so I think 200 is a reasonable padding length. "
   ]
  },
  {
   "cell_type": "markdown",
   "id": "fddd6552",
   "metadata": {},
   "source": [
    "### Padding and replace words not in Word2Vec using \\<unk\\>\n",
    "Since there are many words appeared only once in the training set, and there might be words in the testing set that did not appear in the training set, so we need to use some word to replace them, or it will make errors when we use word vectors. We choose **\\<unk\\>** to represent **unknown word**.  \n",
    "In this part, we will change reviews from list of words into list of indices, so that when we work on models, we could use list of indices to get list of vectors for each review."
   ]
  },
  {
   "cell_type": "code",
   "execution_count": 59,
   "id": "918ee7b3",
   "metadata": {},
   "outputs": [],
   "source": [
    "# define a function for it\n",
    "def padding_and_unk(sentence_list, pad_len, word2index):\n",
    "    '''\n",
    "        sentence_list: a list of lists of words\n",
    "        max_len: length for padding\n",
    "        word2index: the dictionary of word, index key-value pairs\n",
    "    '''\n",
    "    # empty list\n",
    "    padded_list = []\n",
    "    pad_id = word2index['<pad>']\n",
    "    unk_id = word2index['<unk>']\n",
    "    for sentence in sentence_list:\n",
    "        \n",
    "        if len(sentence) >= pad_len:\n",
    "            # if sentence is longer than pad_len\n",
    "            # we only use the first pad_len words\n",
    "            temp_list = sentence[:pad_len]\n",
    "        else:\n",
    "            # if sentence is shorter than pad_len\n",
    "            # pad the sentence to pad_len\n",
    "            temp_list = np.zeros((pad_len), dtype='int32')\n",
    "            temp_list.fill(pad_id) # <pad>\n",
    "            \n",
    "        # if sentence is shorter than padded length, then we use the sentence length (we only want to check words)\n",
    "        # if the sentence is longer than padded length, we want to pad_len words\n",
    "        if len(sentence) < pad_len:\n",
    "            check_len = len(sentence)\n",
    "        else:\n",
    "            check_len = pad_len\n",
    "        \n",
    "        # now check each word\n",
    "        for i in range(check_len):\n",
    "            try:\n",
    "                # if could find in dict, then store the index\n",
    "                temp_list[i] = word2index[sentence[i]]\n",
    "            except KeyError:\n",
    "                # if not, store the index for <unk>\n",
    "                temp_list[i] = unk_id # <unk>\n",
    "        padded_list.append(list(temp_list))\n",
    "        \n",
    "    return padded_list"
   ]
  },
  {
   "cell_type": "code",
   "execution_count": 60,
   "id": "d5d28c36",
   "metadata": {},
   "outputs": [
    {
     "name": "stdout",
     "output_type": "stream",
     "text": [
      "Time to padding and replace: 18.27 mins\n"
     ]
    }
   ],
   "source": [
    "# padding and replacing to the training and testing set\n",
    "t = time()\n",
    "# use function to padding my lists\n",
    "pad_len = 200\n",
    "x_padded_train_list = padding_and_unk(x_train_list, pad_len, word2index)\n",
    "x_padded_test_list = padding_and_unk(x_test_list, pad_len, word2index)\n",
    "\n",
    "print('Time to padding and replace: {} mins'.format(round((time() - t) / 60, 2)))"
   ]
  },
  {
   "cell_type": "markdown",
   "id": "c49bca1d",
   "metadata": {},
   "source": [
    "### Now store this to .npy file together with labels \n",
    "It takes a lot of time, so I do not want to do it again"
   ]
  },
  {
   "cell_type": "code",
   "execution_count": 63,
   "id": "f6e88685",
   "metadata": {},
   "outputs": [
    {
     "name": "stdout",
     "output_type": "stream",
     "text": [
      "Time to save ids: 2.04 mins\n",
      "Time to save labels: 0.01 mins\n"
     ]
    }
   ],
   "source": [
    "# save ids\n",
    "t = time()\n",
    "np.save(train_ids_npy_path, x_padded_train_list)\n",
    "np.save(test_ids_npy_path, x_padded_test_list)\n",
    "print('Time to save ids: {} mins'.format(round((time() - t) / 60, 2)))\n",
    "\n",
    "# save labels\n",
    "t = time()\n",
    "np.save(train_label_npy_path, sample_y_train)\n",
    "np.save(test_label_npy_path, sample_y_test)\n",
    "print('Time to save labels: {} mins'.format(round((time() - t) / 60, 2)))"
   ]
  },
  {
   "cell_type": "markdown",
   "id": "88aad383",
   "metadata": {},
   "source": [
    "# Models  \n",
    "In the modeling part, we tried 3 different popular models in the NLP field and compare their performances.  \n",
    "3 models we tried are **CNN**, **LSTM**, and **GRU**."
   ]
  },
  {
   "cell_type": "markdown",
   "id": "d9cbdfed",
   "metadata": {},
   "source": [
    "## Model 1: Convolutional Neural Network -- CNN\n",
    " \n",
    "Traditionally, the CNN model is used for image processing and analysis, but recently, CNN has been used in the NLP field widely. As the image is 2-dimensional. Different from images, the text is 1-dimensional, so the first thing in building the model is to visualize the texts to 2-dimensional by converting the words into word embeddings.  \n",
    "\n",
    "I implement the model with 1-dimensional convolution layers, where the embedding dimension is the depth of the filter and the number of tokens in the sentences is the width.   \n",
    "**Convolutional Layers:**  \n",
    "In this model, I implement the convolutional layers with Conv1D. The in_channels argument is the number of \"channels\" in the image (or word) going into the convolutional layer. Different from images, when using text, there is only a single channel, the text itself. The out_channels is the number of filters and the kernel_size is the size of the filters. Each of our kernel_sizes is going to be [n x emb_dim] where 𝑛 is the size of the n-grams. Then pass the tensors through the convolutional and pooling layers, using the ReLU activation function (σ(x)=max⁡\\{ 0,x}) after the convolutional layers.  \n",
    "**Pooling Layers:**\n",
    "Another important layer is the pooling layer on the output of the convolutional layers. In this model, I choose to use max pooling instead of average pooling, which means, the previous layer is divided into small groups of units and the maximum activation among each small group of units is copied to a single unit in the subsequent layer.  \n",
    "**Regularization layer (Dropout Layer):**  \n",
    "The Dropout layer randomly sets input units to 0 with a frequency of rate at each step during training time, which helps prevent overfitting. Inputs not set to 0 are scaled up by 1/(1-rate) such that the sum over all inputs is unchanged.\n",
    "**Hyperparameter choosing:**  \n",
    "Initially, I set epoch=10 to train the model, from the plot shows that after the 4th epoch, the valid accuracy is getting lower than the training accuracy while the training accuracy keeps increasing. If the number of epochs increases, this may result in overfitting, so I decrease the epochs to 4  \n",
    "\n",
    "Reference: https://colab.research.google.com/github/bentrevett/pytorch-sentiment-analysis/blob/master/4%20-%20Convolutional%20Sentiment%20Analysis.ipynb#scrollTo=uBQe6ctumfyX"
   ]
  },
  {
   "cell_type": "markdown",
   "id": "5bf15ff1",
   "metadata": {},
   "source": [
    "### Prepare data\n",
    "Since my laptop might run out of memory, so I store files and load them when training models."
   ]
  },
  {
   "cell_type": "code",
   "execution_count": 3,
   "id": "96b7ab9e",
   "metadata": {},
   "outputs": [
    {
     "name": "stdout",
     "output_type": "stream",
     "text": [
      "Once deleted, variables cannot be recovered. Proceed (y/[n])? y\n"
     ]
    }
   ],
   "source": [
    "%reset"
   ]
  },
  {
   "cell_type": "code",
   "execution_count": 27,
   "id": "e2ddf6ed",
   "metadata": {},
   "outputs": [],
   "source": [
    "import numpy as np\n",
    "import pandas as pd \n",
    "import matplotlib.pyplot as plt\n",
    "from time import time\n",
    "import torchtext\n",
    "import torch\n",
    "import torch.nn as nn\n",
    "import torch.nn.functional as F\n",
    "import torch.optim as optim\n",
    "from torch.utils.data import Dataset,TensorDataset\n",
    "from torchtext import data,datasets\n",
    "import torch.optim as optim\n",
    "import seaborn as sns\n",
    "from sklearn.metrics import f1_score, confusion_matrix, classification_report\n",
    "device = torch.device('cuda' if torch.cuda.is_available() else 'cpu')"
   ]
  },
  {
   "cell_type": "code",
   "execution_count": 7,
   "id": "589ca4bf",
   "metadata": {},
   "outputs": [],
   "source": [
    "index2word_path = \"index2word.npy\"\n",
    "word2index_path = \"word2index.npy\"\n",
    "index2vec_path = \"index2vec.npy\"\n",
    "train_ids_npy_path = \"train_ids.npy\"\n",
    "test_ids_npy_path = \"test_ids.npy\"\n",
    "train_label_npy_path = \"train_labels.npy\"\n",
    "test_label_npy_path = \"test_labels.npy\""
   ]
  },
  {
   "cell_type": "code",
   "execution_count": 12,
   "id": "8dc57be1",
   "metadata": {},
   "outputs": [],
   "source": [
    "x_ids_train = np.load(train_ids_npy_path, allow_pickle=True)\n",
    "x_ids_test = np.load(test_ids_npy_path, allow_pickle=True)\n",
    "y_train = np.load(train_label_npy_path, allow_pickle=True)\n",
    "y_test = np.load(test_label_npy_path, allow_pickle=True)\n",
    "index2word = np.load(index2word_path, allow_pickle=True)\n",
    "word2index = np.load(word2index_path, allow_pickle=True).item()\n",
    "index2vec = np.load(index2vec_path, allow_pickle=True)\n",
    "x_ids_train = x_ids_train.astype(int)\n",
    "x_ids_test = x_ids_test.astype(int)\n",
    "y_train = y_train.astype(int)\n",
    "y_test = y_test.astype(int)"
   ]
  },
  {
   "cell_type": "markdown",
   "id": "87110e80",
   "metadata": {},
   "source": [
    "### Build the model\n",
    "Use 1-dimensional convolutional layers, where the embedding dimension is the \"depth\" of the filter and the number of tokens in the sentence is the width."
   ]
  },
  {
   "cell_type": "code",
   "execution_count": 9,
   "id": "1ad38a3c",
   "metadata": {},
   "outputs": [],
   "source": [
    "class CNN1d(nn.Module):\n",
    "    def __init__(self, vocab_size, embedding_dim, n_filters, filter_sizes, output_dim, \n",
    "                 dropout, pad_idx):\n",
    "        \n",
    "        super().__init__()\n",
    "        \n",
    "        # embedding_dim=100, which means the dim of each word vector\n",
    "        self.embedding = nn.Embedding(vocab_size, embedding_dim, padding_idx = pad_idx)\n",
    "        \n",
    "        self.convs = nn.ModuleList([\n",
    "                                    nn.Conv1d(in_channels = embedding_dim, \n",
    "                                              out_channels = n_filters, \n",
    "                                              kernel_size = fs)\n",
    "                                    for fs in filter_sizes\n",
    "                                    ])\n",
    "        \n",
    "        self.fc = nn.Linear(len(filter_sizes) * n_filters, output_dim)\n",
    "        \n",
    "        self.dropout = nn.Dropout(dropout)    # Avoid overfitting dropout=0.5\n",
    "        \n",
    "    def forward(self, text):\n",
    "        \n",
    "        #text = [batch size, sent len]\n",
    "        \n",
    "        embedded = self.embedding(text)\n",
    "                \n",
    "        #embedded = [batch size, sent len, emb dim]\n",
    "       \n",
    "        embedded = embedded.permute(0, 2, 1)\n",
    "        \n",
    "        #embedded = [batch size, emb dim, sent len]\n",
    "        \n",
    "        conved = [F.relu(conv(embedded)) for conv in self.convs]  # using ReLu activation\n",
    "            \n",
    "        #conved_n = [batch size, n_filters, sent len - filter_sizes[n] + 1]\n",
    "        \n",
    "        pooled = [F.max_pool1d(conv, conv.shape[2]).squeeze(2) for conv in conved]  # using max pooling to find the 'most important' feature\n",
    "        \n",
    "        #pooled_n = [batch size, n_filters]\n",
    "        \n",
    "        cat = self.dropout(torch.cat(pooled, dim = 1))  # avoid overfitting, dropout=0.5\n",
    "        \n",
    "        #cat = [batch size, n_filters * len(filter_sizes)]\n",
    "            \n",
    "        return self.fc(cat)"
   ]
  },
  {
   "cell_type": "code",
   "execution_count": 13,
   "id": "2dff664f",
   "metadata": {},
   "outputs": [],
   "source": [
    "batch_size = 512\n",
    "\n",
    "test_data = TensorDataset(torch.from_numpy(x_ids_test).to(device), torch.from_numpy(y_test).to(device))\n",
    "\n",
    "train_data = x_ids_train[:1700000]    # train_data size = 1700000\n",
    "valid_data = x_ids_train[1700000:]\n",
    "y_train_data = y_train[:1700000]    # validation_data size = 100000\n",
    "y_valid_data = y_train[1700000:]\n",
    "\n",
    "train_data = TensorDataset(torch.from_numpy(train_data).to(device), torch.from_numpy(y_train_data).to(device))\n",
    "valid_data = TensorDataset(torch.from_numpy(valid_data).to(device), torch.from_numpy(y_valid_data).to(device))\n",
    "\n",
    "\n",
    "train_iterator = torch.utils.data.DataLoader(train_data, \n",
    "                                             batch_size, \n",
    "                                             shuffle = True, \n",
    "                                             )\n",
    "valid_iterator = torch.utils.data.DataLoader(valid_data, \n",
    "                                             batch_size, \n",
    "                                             shuffle = True, \n",
    "                                             )\n",
    "test_iterator = torch.utils.data.DataLoader(test_data, \n",
    "                                            batch_size, \n",
    "                                            shuffle = False, \n",
    "                                            )"
   ]
  },
  {
   "cell_type": "markdown",
   "id": "39a70276",
   "metadata": {},
   "source": [
    "Set the parameters."
   ]
  },
  {
   "cell_type": "code",
   "execution_count": 14,
   "id": "593f1094",
   "metadata": {},
   "outputs": [],
   "source": [
    "INPUT_DIM = len(word2index)\n",
    "EMBEDDING_DIM = 100   # the dim of each word vector\n",
    "N_FILTERS = 150   # total = 150 * 4 = 600\n",
    "FILTER_SIZES = [2,3,4,5]  #  four different sizes of filters to cover 2, 3, 4, 5 sequential words\n",
    "OUTPUT_DIM = 1  # only one output of the probability\n",
    "DROPOUT = 0.5  # avoid overfitting\n",
    "PAD_IDX = word2index['<pad>']\n",
    "\n",
    "model = CNN1d(INPUT_DIM, EMBEDDING_DIM, N_FILTERS, FILTER_SIZES, OUTPUT_DIM, DROPOUT, PAD_IDX)"
   ]
  },
  {
   "cell_type": "markdown",
   "id": "79637e65",
   "metadata": {},
   "source": [
    "Load the pre-trained embeddings."
   ]
  },
  {
   "cell_type": "code",
   "execution_count": 15,
   "id": "3561fc83",
   "metadata": {},
   "outputs": [
    {
     "data": {
      "text/plain": [
       "tensor([[ 9.6620e-01,  8.9641e-01,  8.9497e-01,  ...,  1.6644e-01,\n",
       "         -1.1420e+00,  9.3822e-01],\n",
       "        [-3.2080e-01, -4.1956e-01,  1.7682e+00,  ..., -3.9620e-01,\n",
       "          2.5392e+00, -3.9942e-01],\n",
       "        [ 3.4887e-01,  3.3238e-01,  4.1357e-01,  ...,  4.1964e-01,\n",
       "          1.7218e-01, -1.7007e-01],\n",
       "        ...,\n",
       "        [-3.7148e-01,  2.3935e-01, -3.5567e-01,  ..., -1.8063e-01,\n",
       "         -3.3152e-02, -3.7497e-01],\n",
       "        [ 3.0105e-03,  2.8680e-02,  1.3764e-03,  ..., -1.5941e-01,\n",
       "         -2.1332e-01,  1.1867e-01],\n",
       "        [ 0.0000e+00,  0.0000e+00,  0.0000e+00,  ...,  0.0000e+00,\n",
       "          0.0000e+00,  0.0000e+00]])"
      ]
     },
     "execution_count": 15,
     "metadata": {},
     "output_type": "execute_result"
    }
   ],
   "source": [
    "embedding_matrix = torch.from_numpy(index2vec)\n",
    "model.embedding.weight.data.copy_(embedding_matrix)"
   ]
  },
  {
   "cell_type": "markdown",
   "id": "75c2e3d9",
   "metadata": {},
   "source": [
    "### Train the Model\n",
    "Initialize the optimizer (Adam), loss function (BCEWithLogitsLoss) and place the model"
   ]
  },
  {
   "cell_type": "code",
   "execution_count": 17,
   "id": "cd4205bc",
   "metadata": {},
   "outputs": [],
   "source": [
    "# Define the loss function and optimize the method\n",
    "optimizer = optim.Adam(model.parameters())\n",
    "criterion = nn.BCEWithLogitsLoss()    # as this is a binary classification\n",
    "#criterion = nn.CrossEntropyLoss()     cross entropy is less effective as BCE\n",
    "\n",
    "model = model.to(device)\n",
    "criterion = criterion.to(device)"
   ]
  },
  {
   "cell_type": "markdown",
   "id": "38a76b5f",
   "metadata": {},
   "source": [
    "Define a function for training the model."
   ]
  },
  {
   "cell_type": "code",
   "execution_count": 18,
   "id": "847c7455",
   "metadata": {},
   "outputs": [],
   "source": [
    "def train(model, iterator, optimizer, criterion):\n",
    "    \n",
    "    epoch_loss = 0\n",
    "    epoch_acc = 0\n",
    "    \n",
    "    model.train()\n",
    "    \n",
    "    for batch in iterator:    # batch = [text, label]\n",
    "\n",
    "        text = batch[0]\n",
    "\n",
    "        label = batch[1].float()\n",
    "\n",
    "        optimizer.zero_grad() # The gradient calculation result of the previous batch is not required when the next batch gradient calculation is performed\n",
    "\n",
    "        predictions = model(text).squeeze(1)\n",
    "\n",
    "        round_pred = torch.round(torch.sigmoid(predictions))    # to make the output between 0 to 1\n",
    "        \n",
    "        loss = criterion(predictions, label)  # nn.BCEWithLogitsLoss() \n",
    "\n",
    "        correct = (round_pred == label).float()\n",
    "\n",
    "        acc = correct.sum() / len(correct)  # Calculate accuracy, which will return accuracy every patch\n",
    "\n",
    "        #print(f'\\tTrain Loss: {loss:.3f} | Train Acc: {acc*100:.2f}%')\n",
    "        \n",
    "        loss.backward()   # loss derivative\n",
    "        \n",
    "        optimizer.step()  # Update parameters\n",
    "        \n",
    "        epoch_loss += loss.item()   # tensor.item() gets the value of tensor\n",
    "        epoch_acc += acc.item()\n",
    "\n",
    "        loss = epoch_loss / len(iterator) # calculate loss and accuracy\n",
    "        acc = epoch_acc / len(iterator)\n",
    "        \n",
    "    return loss, acc"
   ]
  },
  {
   "cell_type": "markdown",
   "id": "003158e0",
   "metadata": {},
   "source": [
    "Define a function for testing the model."
   ]
  },
  {
   "cell_type": "code",
   "execution_count": 19,
   "id": "c2038e3a",
   "metadata": {},
   "outputs": [],
   "source": [
    "def evaluate(model, iterator, criterion):\n",
    "    \n",
    "    epoch_loss = 0\n",
    "    epoch_acc = 0\n",
    "    \n",
    "    model.eval()\n",
    "    predic = []\n",
    "\n",
    "    with torch.no_grad(): # will not track the gradient\n",
    "    \n",
    "        for batch in iterator:\n",
    "\n",
    "            text = batch[0]\n",
    "\n",
    "            label = batch[1].float()\n",
    "\n",
    "            predictions = model(text).squeeze(1)\n",
    "\n",
    "            round_pred = torch.round(torch.sigmoid(predictions))\n",
    "\n",
    "            predic.append(round_pred)\n",
    "            \n",
    "            loss = criterion(predictions, label)\n",
    "\n",
    "            correct = (round_pred == label).float()\n",
    "\n",
    "            acc = correct.sum() / len(correct)      \n",
    "\n",
    "            epoch_loss += loss.item()\n",
    "            epoch_acc += acc.item()\n",
    "\n",
    "            loss = epoch_loss / len(iterator)\n",
    "            acc = epoch_acc / len(iterator)\n",
    "        \n",
    "    return loss, acc, predic"
   ]
  },
  {
   "cell_type": "markdown",
   "id": "763f6e11",
   "metadata": {},
   "source": [
    "Start training the model.\n",
    "\n",
    "After training the model with different epochs, I set the number of epochs to 4 to avoid overfitting."
   ]
  },
  {
   "cell_type": "code",
   "execution_count": 24,
   "id": "9fc538f1",
   "metadata": {},
   "outputs": [
    {
     "name": "stdout",
     "output_type": "stream",
     "text": [
      "Epoch: 01\n",
      "\tTrain Loss: 0.214 | Train Acc: 91.50%\n",
      "\t Val. Loss: 0.175 |  Val. Acc: 93.33%\n",
      "Epoch: 02\n",
      "\tTrain Loss: 0.176 | Train Acc: 93.29%\n",
      "\t Val. Loss: 0.162 |  Val. Acc: 93.90%\n",
      "Epoch: 03\n",
      "\tTrain Loss: 0.158 | Train Acc: 94.10%\n",
      "\t Val. Loss: 0.161 |  Val. Acc: 93.97%\n",
      "Epoch: 04\n",
      "\tTrain Loss: 0.146 | Train Acc: 94.61%\n",
      "\t Val. Loss: 0.159 |  Val. Acc: 94.19%\n",
      "Time to train the model: 15.97 mins\n"
     ]
    }
   ],
   "source": [
    "t = time()\n",
    "N_EPOCHS = 4\n",
    "\n",
    "best_valid_loss = float('inf')\n",
    "\n",
    "trainloss = []\n",
    "trainacc = []\n",
    "vloss = []\n",
    "vacc = []\n",
    "epo = []\n",
    "\n",
    "for epoch in range(N_EPOCHS):\n",
    "    epo.append(epoch + 1)\n",
    "    train_loss, train_acc = train(model, train_iterator, optimizer, criterion)\n",
    "    valid_loss, valid_acc, valid_label = evaluate(model, valid_iterator, criterion)\n",
    "    # reocrd loss and accuracy in each epoch\n",
    "    trainloss.append(train_loss)\n",
    "    trainacc.append(train_acc)\n",
    "    vloss.append(valid_loss)\n",
    "    vacc.append(valid_acc)  \n",
    "    torch.save(model.state_dict(), './CNN_good_model.pt')\n",
    " \n",
    "    print(f'Epoch: {epoch+1:02}')\n",
    "    print(f'\\tTrain Loss: {train_loss:.3f} | Train Acc: {train_acc*100:.2f}%')\n",
    "    print(f'\\t Val. Loss: {valid_loss:.3f} |  Val. Acc: {valid_acc*100:.2f}%')\n",
    "\n",
    "print('Time to train the model: {} mins'.format(round((time() - t) / 60, 2)))"
   ]
  },
  {
   "cell_type": "code",
   "execution_count": 31,
   "id": "5470a5d4",
   "metadata": {},
   "outputs": [
    {
     "data": {
      "image/png": "[encoded data removed]",
      "text/plain": [
       "<Figure size 720x360 with 2 Axes>"
      ]
     },
     "metadata": {
      "needs_background": "light"
     },
     "output_type": "display_data"
    }
   ],
   "source": [
    "# plot accuracy\n",
    "plt.figure(figsize=(10, 5))\n",
    "plt.subplot(1, 2, 1)\n",
    "plt.plot(epo,trainacc,label = \"train accuracy\")\n",
    "plt.plot(epo,vacc,label = \"validation accuracy\")\n",
    "plt.legend()\n",
    "plt.title('Accuracy of CNN Model')\n",
    "\n",
    "# plot loss\n",
    "plt.subplot(1, 2, 2)\n",
    "plt.plot(epo,trainloss,label = \"train loss\")\n",
    "plt.plot(epo,vloss,label = \"validation loss\")\n",
    "plt.legend()\n",
    "plt.title('Loss of CNN Model')\n",
    "\n",
    "plt.tight_layout()\n",
    "plt.show()"
   ]
  },
  {
   "cell_type": "markdown",
   "id": "d1d0bbfe",
   "metadata": {},
   "source": [
    "### Test the Model\n",
    "Run the model on test set and see its performance."
   ]
  },
  {
   "cell_type": "markdown",
   "id": "aaaabb94",
   "metadata": {},
   "source": [
    "#### Test Accuracy"
   ]
  },
  {
   "cell_type": "code",
   "execution_count": 32,
   "id": "cad830cc",
   "metadata": {},
   "outputs": [
    {
     "name": "stdout",
     "output_type": "stream",
     "text": [
      "Test Loss: 0.159 | Test Acc: 94.15%\n"
     ]
    }
   ],
   "source": [
    "test_loss, test_acc, test_pred = evaluate(model, test_iterator, criterion)\n",
    "\n",
    "print(f'Test Loss: {test_loss:.3f} | Test Acc: {test_acc*100:.2f}%')"
   ]
  },
  {
   "cell_type": "markdown",
   "id": "f0df5efd",
   "metadata": {},
   "source": [
    "#### Confusion matrix"
   ]
  },
  {
   "cell_type": "code",
   "execution_count": 33,
   "id": "ee8586bc",
   "metadata": {},
   "outputs": [],
   "source": [
    "list1 = []\n",
    "for i in test_pred:\n",
    "  for j in i:\n",
    "    list1.append(j)"
   ]
  },
  {
   "cell_type": "code",
   "execution_count": 35,
   "id": "59d2ca4c",
   "metadata": {},
   "outputs": [
    {
     "name": "stdout",
     "output_type": "stream",
     "text": [
      "Classification matrix : \n",
      " [[95084  5014]\n",
      " [ 6676 93226]]\n",
      "\n",
      "Classification report : \n",
      "               precision    recall  f1-score   support\n",
      "\n",
      "           1       0.95      0.93      0.94     99902\n",
      "           0       0.93      0.95      0.94    100098\n",
      "\n",
      "    accuracy                           0.94    200000\n",
      "   macro avg       0.94      0.94      0.94    200000\n",
      "weighted avg       0.94      0.94      0.94    200000\n",
      "\n"
     ]
    }
   ],
   "source": [
    "ytest = torch.from_numpy(y_test).cpu()\n",
    "list2 = torch.tensor(list1).cpu()\n",
    "matrix = classification_report(ytest, list2,labels=[1,0], zero_division=0.0)\n",
    "print('Classification matrix : \\n',confusion_matrix(ytest, list2))\n",
    "print('\\nClassification report : \\n',matrix)"
   ]
  },
  {
   "cell_type": "markdown",
   "id": "b1d308a3",
   "metadata": {},
   "source": [
    "### Heat Map"
   ]
  },
  {
   "cell_type": "code",
   "execution_count": 36,
   "id": "c21e7048",
   "metadata": {},
   "outputs": [
    {
     "data": {
      "image/png": "[encoded data removed]",
      "text/plain": [
       "<Figure size 432x288 with 2 Axes>"
      ]
     },
     "metadata": {
      "needs_background": "light"
     },
     "output_type": "display_data"
    }
   ],
   "source": [
    "sns.heatmap(pd.DataFrame(classification_report(\n",
    "         ytest, list2, zero_division=0.0,output_dict=True)).iloc[:-1, :].T, annot=True)\n",
    "plt.title('Classification report')\n",
    "plt.show()"
   ]
  },
  {
   "cell_type": "markdown",
   "id": "3ccf5dca",
   "metadata": {},
   "source": [
    "### Best Model\n",
    "Since we try this model more than once, the performance of each time is different even if we did not change parameters. We got   \n",
    "**Test Loss: 0.158 | Test Acc: 94.19%**   \n",
    "in previous training."
   ]
  },
  {
   "cell_type": "markdown",
   "id": "e7016e77",
   "metadata": {},
   "source": [
    "## Model 2: Long short term memory -- LSTM\n",
    "\n",
    "LSTM is a special kind of RNN and is able to learn long range dependencies using a combination of forget, input and output gates.\n",
    "In the first step, the forget gate is used to determine what information we’re going to throw away from the cell state. It puts ht-1 and xt through a sigmoid function and outputs a number through 0 and 1 for each value in the cell state Ct-1. The value of 1 means keeping the information, while 0 stands for forgetting.\n",
    "Then the input gate is used to decide what new information we’re going to store in the cell state. This part consists of two parts. Firstly, the input gate layer will decide which parts will be updated by sigmoid. Next, the tanh layer will create update values. After that, we combine the two parts and update to the cell sate.\n",
    "Finally, the output gate will decide what we’re going to output. First, we use a sigmoid layer to decide which part of the cell state will be output. Then we multiply the cell state after passing tanh with the output of the sigmoid gate. \n",
    "In the implementation of the code, we changed the hyperparameters, the number of epochs and the batch size, to find the best LSTM model. When the epoch is 4 and batch size is 200, we get the highest accuracy 92.388% in the test set. \n",
    "\n",
    "Reference: Understanding LSTM Networks\n",
    "Available at: http://colah.github.io/posts/2015-08-Understanding-LSTMs/"
   ]
  },
  {
   "cell_type": "markdown",
   "id": "615b3d8f",
   "metadata": {},
   "source": [
    "Our LSTM model takes too long to train, so we use another notebook for it.\n",
    "In that notebook, it reached:\n",
    "\n",
    "| class| precision | recall | f1-score |\n",
    "|:--:|:--:|:--:|:--:|\n",
    "|0|0.95|0.94|0.94|\n",
    "|1|0.94|0.95|0.94|\n",
    "|accuracy | | |0.94|\n",
    "|weighted avg |0.94|0.94|0.94|"
   ]
  },
  {
   "cell_type": "markdown",
   "id": "6ffeff0c",
   "metadata": {},
   "source": [
    "## Model 3: Gate Recurrent Unit-GRU\n",
    "\n",
    "The GRU model is a variant of LSTM with only two gates in the model, the reset gate and the update gate. In the case of hyperparameter tuning, the performance of GRU and LSTM is comparable, but the training samples are less, the training time is faster, and the structure is simpler. The above three figures are the forward propagation formula of GRU. Update gate Zt: used to control the degree to which the state information of the previous moment is brought into the current state. The larger the value, the more the state information of the previous moment is brought in. Multiply the information of the previous moment and the current moment to the right by the weight matrix and add them, and then digitize them to [0, 1] through the sigmoid function and then send them to the update gate. Reset gate Rt: Control how much historical information there is in the previous state It is written to the current candidate set h~t. The smaller the reset gate, the less information of the previous state is written. It is the same as the data processing of the update gate, but the value and use of the weight matrix are different.\n"
   ]
  },
  {
   "cell_type": "code",
   "execution_count": 56,
   "id": "5bc69f9a",
   "metadata": {},
   "outputs": [
    {
     "name": "stdout",
     "output_type": "stream",
     "text": [
      "Once deleted, variables cannot be recovered. Proceed (y/[n])? y\n"
     ]
    }
   ],
   "source": [
    "%reset"
   ]
  },
  {
   "cell_type": "markdown",
   "id": "df7f3e66",
   "metadata": {},
   "source": [
    "**Load the required packages**"
   ]
  },
  {
   "cell_type": "code",
   "execution_count": 57,
   "id": "a91937f2",
   "metadata": {},
   "outputs": [],
   "source": [
    "import numpy as np\n",
    "import pandas as pd \n",
    "import matplotlib.pyplot as plt\n",
    "from time import time\n",
    "import torchtext\n",
    "import torch\n",
    "import torch.nn as nn\n",
    "import torch.nn.functional as F\n",
    "import torch.optim as optim\n",
    "from torch.utils.data import Dataset,TensorDataset, DataLoader\n",
    "from torchtext import data,datasets\n",
    "import torch.optim as optim\n",
    "import seaborn as sns\n",
    "from sklearn.metrics import f1_score, confusion_matrix, classification_report\n",
    "device = torch.device('cuda' if torch.cuda.is_available() else 'cpu')"
   ]
  },
  {
   "cell_type": "code",
   "execution_count": 58,
   "id": "9684287f",
   "metadata": {},
   "outputs": [],
   "source": [
    "# Loading preprocessed data\n",
    "index2word_path = \"index2word.npy\" \n",
    "word2index_path = \"word2index.npy\" \n",
    "index2vec_path = \"index2vec.npy\"\n",
    "train_ids_npy_path = \"train_ids.npy\"\n",
    "test_ids_npy_path = \"test_ids.npy\"\n",
    "train_label_npy_path = \"train_labels.npy\"\n",
    "test_label_npy_path = \"test_labels.npy\""
   ]
  },
  {
   "cell_type": "code",
   "execution_count": 59,
   "id": "4d9bf530",
   "metadata": {},
   "outputs": [],
   "source": [
    "train_id_list = np.load(train_ids_npy_path, allow_pickle=True)\n",
    "test_id_list = np.load(test_ids_npy_path, allow_pickle=True)\n",
    "train_label = np.load(train_label_npy_path, allow_pickle=True)\n",
    "test_label = np.load(test_label_npy_path, allow_pickle=True)\n",
    "index2word = np.load(index2word_path, allow_pickle=True)\n",
    "word2index = np.load(word2index_path, allow_pickle=True).item()\n",
    "index2vec = np.load(index2vec_path, allow_pickle=True)\n",
    "train_id_list = train_id_list.astype(int)\n",
    "test_id_list = test_id_list.astype(int)\n",
    "train_label = train_label.astype(int)\n",
    "test_label = test_label.astype(int)"
   ]
  },
  {
   "cell_type": "code",
   "execution_count": 60,
   "id": "f7e3dc11",
   "metadata": {},
   "outputs": [],
   "source": [
    "# Since there is no validation data now, I plan to allocate 30% of the  test data set to validation data, using the good model during the evaluation training\n",
    "split_coefficient  = 0.3\n",
    "split_id_list = int(split_coefficient * len(test_id_list))\n",
    "val_id_list = test_id_list[:split_id_list]\n",
    "test_id_list = test_id_list[split_id_list:]\n",
    "val_label = test_label[:split_id_list]\n",
    "test_label = test_label[split_id_list:]"
   ]
  },
  {
   "cell_type": "code",
   "execution_count": 61,
   "id": "334aa081",
   "metadata": {},
   "outputs": [],
   "source": [
    "# Build the DataLoader for the training dataset, validation dataset, and test dataset. Also define the batch size\n",
    "batch_size = 200\n",
    "train_id_label = TensorDataset(torch.from_numpy(train_id_list), torch.from_numpy(train_label))\n",
    "val_id_label = TensorDataset(torch.from_numpy(val_id_list), torch.from_numpy(val_label))\n",
    "test_id_label = TensorDataset(torch.from_numpy(test_id_list), torch.from_numpy(test_label))\n",
    "train_loader = DataLoader(train_id_label, shuffle=False, batch_size=batch_size)\n",
    "val_loader = DataLoader(val_id_label, shuffle=False, batch_size=batch_size)\n",
    "test_loader = DataLoader(test_id_label, shuffle=False, batch_size=batch_size)"
   ]
  },
  {
   "cell_type": "markdown",
   "id": "9b40f9c5",
   "metadata": {},
   "source": [
    "**Define the GRU model**"
   ]
  },
  {
   "cell_type": "code",
   "execution_count": 62,
   "id": "a20de755",
   "metadata": {},
   "outputs": [],
   "source": [
    "# Build GRU model\n",
    "class GRUNET(nn.Module):\n",
    "    def __init__(self, index2vec, vocab_size,output_size,embedding_dim,n_layers,hidden_dim,drop_out_prob=0.5):\n",
    "        super(GRUNET, self).__init__()\n",
    "        self.n_layers = n_layers # Define the number of layers of GRU\n",
    "        self.output_size = output_size # define output size\n",
    "        self.hidden_dim = hidden_dim # Define the dimension of the hidden layer\n",
    "        self.embedding = nn.Embedding(vocab_size, embedding_dim) # Define the embedding layer, responsible for encoding numbers into vectors\n",
    "        self.embedding.weight.data.copy_(torch.from_numpy(index2vec)) # Import the word vector trained during preprocessing as the weight of the embedding layer\n",
    "        self.embedding.weight.requires_grad = False # Do not update word vectors during backpropagation\n",
    "        self.gru = nn.GRU(embedding_dim, # The dimension of the input, the upper limit of the words in a sentence\n",
    "                            hidden_dim, # The dimension of hidden_state output by GRU\n",
    "                            n_layers, # The number of layers of GRU\n",
    "                            batch_first=True, # the first dimension is the batch size\n",
    "                            dropout=drop_out_prob # Define the coefficients of dropout to prevent overfitting\n",
    "                           )\n",
    "        self.dropout = nn.Dropout(drop_out_prob) # Add dropout before the fully connected layer\n",
    "        self.fc = nn.Linear(hidden_dim, output_size) # After the GRU ends, connect the fully connected layer, the GRU output is used as the input of the linear layer, and the output dimension is 1\n",
    "        self.sigmoid = nn.Sigmoid() # After the linear layer is output, it needs to pass the sigmoid function\n",
    "        \n",
    "\n",
    "    def forward(self, sentence , hidden):\n",
    "        \"\"\"\n",
    "        sentence is the input this time, its size is (batch_size, sentence_len), \n",
    "        sentence_len is the length of the sentence hidden: hidden state at the previous moment\n",
    "        \"\"\"\n",
    "        # Because a set of data is input at a time, the size of the data is the size of the first dimension batch\n",
    "        batch_size = sentence.size(0)\n",
    "        # Since the embedding layer only accepts the type of LongTensor, it is necessary to convert the sentence to the type of LongTensor\n",
    "        sentence = sentence.long()\n",
    "        # Encode the sentence and convert it into a 200-dimensional vector, (batch_size,sentence_len,embedding_dim)\n",
    "        embeds = self.embedding(sentence)\n",
    "        # Pass the encoded vector and hidden state to the GRU, and transmit the words one by one to the GRU\n",
    "        GRU_out, hidden = self.gru(embeds, hidden)\n",
    "        # The output of each word goes through a fully connected layer\n",
    "        GRU_out = GRU_out.contiguous().view(-1,self.hidden_dim)\n",
    "        # Add a dropout to the fully connected layer\n",
    "        out = self.dropout(GRU_out)\n",
    "        # The data after dropout is passed to the fully connected layer\n",
    "        out = self.fc(out)\n",
    "        # After the sigmoid function\n",
    "        out = self.sigmoid(out)\n",
    "        # One output per word\n",
    "        out = out.view(batch_size, -1)\n",
    "        # Only take the last word to output\n",
    "        out = out[:,-1]\n",
    "        # Return the output and hidden of this time\n",
    "        return out, hidden\n",
    "\n",
    "    def init_hidden(self, batch_size):\n",
    "        weight = next(self.parameters()).data\n",
    "        # Initialize the hidden layer state, the initialization strategy is to assign all 0\n",
    "        hidden = weight.new(self.n_layers, batch_size, self.hidden_dim).zero_().to(device)\n",
    "        return hidden"
   ]
  },
  {
   "cell_type": "markdown",
   "id": "80795226",
   "metadata": {},
   "source": [
    "**Define hyperparameters**"
   ]
  },
  {
   "cell_type": "code",
   "execution_count": 63,
   "id": "1eefab65",
   "metadata": {},
   "outputs": [],
   "source": [
    "# wordvector size\n",
    "vocab_size = len(index2vec)\n",
    "# output size is 1\n",
    "output_size = 1\n",
    "# embedding dim is 100\n",
    "embedding_dim = 100\n",
    "# hidden_dim is 128\n",
    "hidden_dim = 128\n",
    "# two GRU layers\n",
    "n_layers = 2\n",
    "# create the GRUNET model\n",
    "model = GRUNET(index2vec, vocab_size, output_size, embedding_dim, n_layers, hidden_dim)\n",
    "# use GPU to run\n",
    "model.to(device)\n",
    "# the learning rate is 0.001\n",
    "lr=0.001\n",
    "# Define the loss function, because it is a binary classification problem, so use Binary cross entropy\n",
    "criterion = nn.BCELoss()\n",
    "# The optimizer chooses Adam optimizer\n",
    "optimizer = torch.optim.Adam(model.parameters(), lr=lr)"
   ]
  },
  {
   "cell_type": "markdown",
   "id": "142f28f7",
   "metadata": {},
   "source": [
    "#### Train the Model"
   ]
  },
  {
   "cell_type": "code",
   "execution_count": 66,
   "id": "e199eb78",
   "metadata": {},
   "outputs": [
    {
     "name": "stdout",
     "output_type": "stream",
     "text": [
      "Now the Epoch is: 1of4... The number of train step: 500... The Loss: 0.164... The Validation Loss: 0.190\n",
      "Validation loss now decreased (inf --> 0.190).  Saving this model ....\n",
      "Now the Epoch is: 1of4... The number of train step: 1000... The Loss: 0.215... The Validation Loss: 0.186\n",
      "Validation loss now decreased (0.190 --> 0.186).  Saving this model ....\n",
      "Now the Epoch is: 1of4... The number of train step: 1500... The Loss: 0.146... The Validation Loss: 0.184\n",
      "Validation loss now decreased (0.186 --> 0.184).  Saving this model ....\n",
      "Now the Epoch is: 1of4... The number of train step: 2000... The Loss: 0.263... The Validation Loss: 0.190\n",
      "Now the Epoch is: 1of4... The number of train step: 2500... The Loss: 0.158... The Validation Loss: 0.177\n",
      "Validation loss now decreased (0.184 --> 0.177).  Saving this model ....\n",
      "Now the Epoch is: 1of4... The number of train step: 3000... The Loss: 0.216... The Validation Loss: 0.170\n",
      "Validation loss now decreased (0.177 --> 0.170).  Saving this model ....\n",
      "Now the Epoch is: 1of4... The number of train step: 3500... The Loss: 0.181... The Validation Loss: 0.169\n",
      "Validation loss now decreased (0.170 --> 0.169).  Saving this model ....\n",
      "Now the Epoch is: 1of4... The number of train step: 4000... The Loss: 0.158... The Validation Loss: 0.165\n",
      "Validation loss now decreased (0.169 --> 0.165).  Saving this model ....\n",
      "Now the Epoch is: 1of4... The number of train step: 4500... The Loss: 0.149... The Validation Loss: 0.163\n",
      "Validation loss now decreased (0.165 --> 0.163).  Saving this model ....\n",
      "Now the Epoch is: 1of4... The number of train step: 5000... The Loss: 0.182... The Validation Loss: 0.165\n",
      "Now the Epoch is: 1of4... The number of train step: 5500... The Loss: 0.209... The Validation Loss: 0.159\n",
      "Validation loss now decreased (0.163 --> 0.159).  Saving this model ....\n",
      "Now the Epoch is: 1of4... The number of train step: 6000... The Loss: 0.185... The Validation Loss: 0.160\n",
      "Now the Epoch is: 1of4... The number of train step: 6500... The Loss: 0.162... The Validation Loss: 0.156\n",
      "Validation loss now decreased (0.159 --> 0.156).  Saving this model ....\n",
      "Now the Epoch is: 1of4... The number of train step: 7000... The Loss: 0.228... The Validation Loss: 0.153\n",
      "Validation loss now decreased (0.156 --> 0.153).  Saving this model ....\n",
      "Now the Epoch is: 1of4... The number of train step: 7500... The Loss: 0.139... The Validation Loss: 0.151\n",
      "Validation loss now decreased (0.153 --> 0.151).  Saving this model ....\n",
      "Now the Epoch is: 1of4... The number of train step: 8000... The Loss: 0.145... The Validation Loss: 0.153\n",
      "Now the Epoch is: 1of4... The number of train step: 8500... The Loss: 0.181... The Validation Loss: 0.155\n",
      "Now the Epoch is: 1of4... The number of train step: 9000... The Loss: 0.194... The Validation Loss: 0.153\n",
      "Now the Epoch is: 2of4... The number of train step: 9500... The Loss: 0.142... The Validation Loss: 0.151\n",
      "Validation loss now decreased (0.151 --> 0.151).  Saving this model ....\n",
      "Now the Epoch is: 2of4... The number of train step: 10000... The Loss: 0.187... The Validation Loss: 0.148\n",
      "Validation loss now decreased (0.151 --> 0.148).  Saving this model ....\n",
      "Now the Epoch is: 2of4... The number of train step: 10500... The Loss: 0.115... The Validation Loss: 0.147\n",
      "Validation loss now decreased (0.148 --> 0.147).  Saving this model ....\n",
      "Now the Epoch is: 2of4... The number of train step: 11000... The Loss: 0.183... The Validation Loss: 0.153\n",
      "Now the Epoch is: 2of4... The number of train step: 11500... The Loss: 0.141... The Validation Loss: 0.159\n",
      "Now the Epoch is: 2of4... The number of train step: 12000... The Loss: 0.177... The Validation Loss: 0.151\n",
      "Now the Epoch is: 2of4... The number of train step: 12500... The Loss: 0.162... The Validation Loss: 0.155\n",
      "Now the Epoch is: 2of4... The number of train step: 13000... The Loss: 0.141... The Validation Loss: 0.144\n",
      "Validation loss now decreased (0.147 --> 0.144).  Saving this model ....\n",
      "Now the Epoch is: 2of4... The number of train step: 13500... The Loss: 0.126... The Validation Loss: 0.151\n",
      "Now the Epoch is: 2of4... The number of train step: 14000... The Loss: 0.141... The Validation Loss: 0.146\n",
      "Now the Epoch is: 2of4... The number of train step: 14500... The Loss: 0.180... The Validation Loss: 0.147\n",
      "Now the Epoch is: 2of4... The number of train step: 15000... The Loss: 0.172... The Validation Loss: 0.144\n",
      "Now the Epoch is: 2of4... The number of train step: 15500... The Loss: 0.166... The Validation Loss: 0.147\n",
      "Now the Epoch is: 2of4... The number of train step: 16000... The Loss: 0.176... The Validation Loss: 0.144\n",
      "Validation loss now decreased (0.144 --> 0.144).  Saving this model ....\n",
      "Now the Epoch is: 2of4... The number of train step: 16500... The Loss: 0.111... The Validation Loss: 0.143\n",
      "Validation loss now decreased (0.144 --> 0.143).  Saving this model ....\n",
      "Now the Epoch is: 2of4... The number of train step: 17000... The Loss: 0.134... The Validation Loss: 0.154\n",
      "Now the Epoch is: 2of4... The number of train step: 17500... The Loss: 0.149... The Validation Loss: 0.142\n",
      "Validation loss now decreased (0.143 --> 0.142).  Saving this model ....\n",
      "Now the Epoch is: 2of4... The number of train step: 18000... The Loss: 0.171... The Validation Loss: 0.147\n",
      "Now the Epoch is: 3of4... The number of train step: 18500... The Loss: 0.143... The Validation Loss: 0.146\n",
      "Now the Epoch is: 3of4... The number of train step: 19000... The Loss: 0.186... The Validation Loss: 0.142\n",
      "Validation loss now decreased (0.142 --> 0.142).  Saving this model ....\n",
      "Now the Epoch is: 3of4... The number of train step: 19500... The Loss: 0.096... The Validation Loss: 0.142\n",
      "Validation loss now decreased (0.142 --> 0.142).  Saving this model ....\n",
      "Now the Epoch is: 3of4... The number of train step: 20000... The Loss: 0.174... The Validation Loss: 0.143\n",
      "Now the Epoch is: 3of4... The number of train step: 20500... The Loss: 0.107... The Validation Loss: 0.145\n",
      "Now the Epoch is: 3of4... The number of train step: 21000... The Loss: 0.165... The Validation Loss: 0.143\n",
      "Now the Epoch is: 3of4... The number of train step: 21500... The Loss: 0.134... The Validation Loss: 0.144\n",
      "Now the Epoch is: 3of4... The number of train step: 22000... The Loss: 0.116... The Validation Loss: 0.141\n",
      "Validation loss now decreased (0.142 --> 0.141).  Saving this model ....\n",
      "Now the Epoch is: 3of4... The number of train step: 22500... The Loss: 0.140... The Validation Loss: 0.149\n",
      "Now the Epoch is: 3of4... The number of train step: 23000... The Loss: 0.131... The Validation Loss: 0.141\n",
      "Validation loss now decreased (0.141 --> 0.141).  Saving this model ....\n",
      "Now the Epoch is: 3of4... The number of train step: 23500... The Loss: 0.149... The Validation Loss: 0.144\n",
      "Now the Epoch is: 3of4... The number of train step: 24000... The Loss: 0.145... The Validation Loss: 0.148\n",
      "Now the Epoch is: 3of4... The number of train step: 24500... The Loss: 0.133... The Validation Loss: 0.144\n",
      "Now the Epoch is: 3of4... The number of train step: 25000... The Loss: 0.198... The Validation Loss: 0.143\n",
      "Now the Epoch is: 3of4... The number of train step: 25500... The Loss: 0.123... The Validation Loss: 0.140\n",
      "Validation loss now decreased (0.141 --> 0.140).  Saving this model ....\n",
      "Now the Epoch is: 3of4... The number of train step: 26000... The Loss: 0.110... The Validation Loss: 0.142\n",
      "Now the Epoch is: 3of4... The number of train step: 26500... The Loss: 0.141... The Validation Loss: 0.147\n",
      "Now the Epoch is: 3of4... The number of train step: 27000... The Loss: 0.177... The Validation Loss: 0.140\n",
      "Now the Epoch is: 4of4... The number of train step: 27500... The Loss: 0.125... The Validation Loss: 0.145\n",
      "Now the Epoch is: 4of4... The number of train step: 28000... The Loss: 0.173... The Validation Loss: 0.141\n",
      "Now the Epoch is: 4of4... The number of train step: 28500... The Loss: 0.119... The Validation Loss: 0.141\n",
      "Now the Epoch is: 4of4... The number of train step: 29000... The Loss: 0.149... The Validation Loss: 0.144\n",
      "Now the Epoch is: 4of4... The number of train step: 29500... The Loss: 0.127... The Validation Loss: 0.146\n",
      "Now the Epoch is: 4of4... The number of train step: 30000... The Loss: 0.184... The Validation Loss: 0.146\n",
      "Now the Epoch is: 4of4... The number of train step: 30500... The Loss: 0.134... The Validation Loss: 0.143\n"
     ]
    },
    {
     "name": "stdout",
     "output_type": "stream",
     "text": [
      "Now the Epoch is: 4of4... The number of train step: 31000... The Loss: 0.130... The Validation Loss: 0.143\n",
      "Now the Epoch is: 4of4... The number of train step: 31500... The Loss: 0.120... The Validation Loss: 0.146\n",
      "Now the Epoch is: 4of4... The number of train step: 32000... The Loss: 0.098... The Validation Loss: 0.140\n",
      "Validation loss now decreased (0.140 --> 0.140).  Saving this model ....\n",
      "Now the Epoch is: 4of4... The number of train step: 32500... The Loss: 0.166... The Validation Loss: 0.141\n",
      "Now the Epoch is: 4of4... The number of train step: 33000... The Loss: 0.147... The Validation Loss: 0.144\n",
      "Now the Epoch is: 4of4... The number of train step: 33500... The Loss: 0.135... The Validation Loss: 0.143\n",
      "Now the Epoch is: 4of4... The number of train step: 34000... The Loss: 0.181... The Validation Loss: 0.139\n",
      "Validation loss now decreased (0.140 --> 0.139).  Saving this model ....\n",
      "Now the Epoch is: 4of4... The number of train step: 34500... The Loss: 0.109... The Validation Loss: 0.140\n",
      "Now the Epoch is: 4of4... The number of train step: 35000... The Loss: 0.104... The Validation Loss: 0.142\n",
      "Now the Epoch is: 4of4... The number of train step: 35500... The Loss: 0.132... The Validation Loss: 0.139\n",
      "Validation loss now decreased (0.139 --> 0.139).  Saving this model ....\n",
      "Now the Epoch is: 4of4... The number of train step: 36000... The Loss: 0.176... The Validation Loss: 0.139\n",
      "Validation loss now decreased (0.139 --> 0.139).  Saving this model ....\n",
      "Time to train the model: 22.58 mins\n"
     ]
    }
   ],
   "source": [
    "t = time()\n",
    "# A total of 4 rounds of training\n",
    "epochs = 4\n",
    "# Record the current training times\n",
    "counter_train = 0\n",
    "# Print the training situation every 500 training sessions\n",
    "print_state = 500\n",
    "# model clipping num\n",
    "clip = 5\n",
    "# Initialization of valid loss minimum value\n",
    "valid_loss_min = np.Inf\n",
    "loss_record = []\n",
    "\n",
    "model.train()\n",
    "for i in range(epochs):\n",
    "    # Initialize the first hidden state\n",
    "    h = model.init_hidden(batch_size)\n",
    "    # Get a set of inputs and labels from the trainloader\n",
    "    for inputs, labels in train_loader:\n",
    "        # Training times +1\n",
    "        counter_train += 1\n",
    "        # Get the data of the last hidden state\n",
    "        h = h.data\n",
    "        # Putting data into the GPU to accelerate\n",
    "        inputs, labels = inputs.to(device), labels.to(device)\n",
    "        # clear gradient model\n",
    "        model.zero_grad()\n",
    "        # Send the input and hidden_state of this round to the GRU model, carry out forward propagation, and then obtain the output and new hidden_state of this round\n",
    "        output, h = model(inputs, h)\n",
    "        # Send the predicted value and the true value to the loss function to calculate the loss\n",
    "        loss = criterion(output.squeeze(), labels.float())\n",
    "        # do backpropagation\n",
    "        loss.backward()\n",
    "        # Trim the model to prevent model gradient explosion\n",
    "        nn.utils.clip_grad_norm_(model.parameters(), clip)\n",
    "        # update weights\n",
    "        optimizer.step()\n",
    "        # If it reaches 500 times, perform validation on the validation set\n",
    "        if counter_train % print_state == 0:\n",
    "            # Initialize the first hidden state (validation set)\n",
    "            val_h = model.init_hidden(batch_size)\n",
    "            # Use list to record the loss of validation data\n",
    "            val_losses_record = []\n",
    "            # Convert the model to evaluation mode\n",
    "            model.eval()\n",
    "            for input_val, label_val in val_loader:\n",
    "                val_h = val_h.data\n",
    "                input_val, label_val = input_val.to(device), label_val.to(device)\n",
    "                out, val_h = model(input_val, val_h)\n",
    "                val_loss = criterion(out.squeeze(), label_val.float())\n",
    "                loss_record.append(loss.item)\n",
    "                val_losses_record.append(val_loss.item())\n",
    "                \n",
    "            model.train()\n",
    "            print(\"Now the Epoch is: {}of{}...\".format(i+1, epochs),\n",
    "                  \"The number of train step: {}...\".format(counter_train),\n",
    "                  \"The Loss: {:.3f}...\".format(loss.item()),\n",
    "                  \"The Validation Loss: {:.3f}\".format(np.mean(val_losses_record)))\n",
    "            if np.mean(val_losses_record) <= valid_loss_min:\n",
    "                torch.save(model.state_dict(), './good_model.pt')\n",
    "                print('Validation loss now decreased ({:.3f} --> {:.3f}).  Saving this model ....'.format(valid_loss_min,np.mean(val_losses_record)))\n",
    "                valid_loss_min = np.mean(val_losses_record)\n",
    "print('Time to train the model: {} mins'.format(round((time() - t) / 60, 2)))"
   ]
  },
  {
   "cell_type": "markdown",
   "id": "43cdc04c",
   "metadata": {},
   "source": [
    "#### Plot the validation loss"
   ]
  },
  {
   "cell_type": "code",
   "execution_count": 73,
   "id": "78c23d4a",
   "metadata": {},
   "outputs": [
    {
     "data": {
      "image/png": "[encoded data removed]",
      "text/plain": [
       "<Figure size 720x360 with 1 Axes>"
      ]
     },
     "metadata": {
      "needs_background": "light"
     },
     "output_type": "display_data"
    }
   ],
   "source": [
    "plt.figure(figsize=(10, 5))\n",
    "\n",
    "plt.plot(range(1,len(val_losses_record) + 1),val_losses_record,label = \"validation Loss\")\n",
    "\n",
    "plt.legend()\n",
    "plt.title('Loss of GRU')\n",
    "plt.show()"
   ]
  },
  {
   "cell_type": "markdown",
   "id": "25097173",
   "metadata": {},
   "source": [
    "### Test the Model\n",
    "#### Test Accuracy and Loss"
   ]
  },
  {
   "cell_type": "code",
   "execution_count": 77,
   "id": "bc9a2a33",
   "metadata": {},
   "outputs": [
    {
     "name": "stdout",
     "output_type": "stream",
     "text": [
      "Test loss: 0.137\n",
      "Test accuracy: 94.917%\n"
     ]
    }
   ],
   "source": [
    "model.load_state_dict(torch.load('good_model.pt'))\n",
    "# use a list to record the test data loss\n",
    "test_losses_list = []\n",
    "# predict correct number\n",
    "predict_correct_num = 0\n",
    "h = model.init_hidden(batch_size)\n",
    "predicted_y = []\n",
    "\n",
    "model.eval()\n",
    "for inputs_test, labels_test in test_loader:\n",
    "    h = h.data\n",
    "    inputs_test, labels_test = inputs_test.to(device), labels_test.to(device)\n",
    "    output, h = model(inputs_test, h)\n",
    "    test_loss = criterion(output.squeeze(), labels_test.float())\n",
    "    test_losses_list.append(test_loss.item())\n",
    "    # Rounds the output to 0/1\n",
    "    prd = torch.round(output.squeeze())  \n",
    "    for p in prd.tolist():\n",
    "      predicted_y.append(int(p))\n",
    "    correct_tensor = prd.eq(labels_test.float().view_as(prd))\n",
    "    correct = np.squeeze(correct_tensor.cpu().numpy())\n",
    "    predict_correct_num += np.sum(correct)\n",
    "\n",
    "print(\"Test loss: {:.3f}\".format(np.mean(test_losses_list)))\n",
    "test_acc = predict_correct_num/len(test_loader.dataset)\n",
    "print(\"Test accuracy: {:.3f}%\".format(test_acc*100))"
   ]
  },
  {
   "cell_type": "markdown",
   "id": "120a93ad",
   "metadata": {},
   "source": [
    "#### Confusion Matrix"
   ]
  },
  {
   "cell_type": "code",
   "execution_count": 78,
   "id": "6149ddc7",
   "metadata": {},
   "outputs": [
    {
     "name": "stdout",
     "output_type": "stream",
     "text": [
      "              precision    recall  f1-score   support\n",
      "\n",
      "           0       0.95      0.94      0.95     70138\n",
      "           1       0.94      0.95      0.95     69862\n",
      "\n",
      "    accuracy                           0.95    140000\n",
      "   macro avg       0.95      0.95      0.95    140000\n",
      "weighted avg       0.95      0.95      0.95    140000\n",
      "\n"
     ]
    }
   ],
   "source": [
    "report = classification_report(test_label, predicted_y)\n",
    "print(report)"
   ]
  },
  {
   "cell_type": "markdown",
   "id": "63cd69d3",
   "metadata": {},
   "source": [
    "#### Heat Map"
   ]
  },
  {
   "cell_type": "code",
   "execution_count": 79,
   "id": "fd212a20",
   "metadata": {},
   "outputs": [
    {
     "data": {
      "image/png": "[encoded data removed]",
      "text/plain": [
       "<Figure size 432x288 with 2 Axes>"
      ]
     },
     "metadata": {
      "needs_background": "light"
     },
     "output_type": "display_data"
    }
   ],
   "source": [
    "sns.heatmap(pd.DataFrame(classification_report(\n",
    "         test_label, predicted_y, zero_division=0.0,output_dict=True)).iloc[:-1, :].T, annot=True)\n",
    "plt.title('Classification report')\n",
    "plt.show()"
   ]
  },
  {
   "cell_type": "markdown",
   "id": "7d8ed087",
   "metadata": {},
   "source": [
    "# Result of all 3 Models\n",
    "\n",
    "| |  | precision | recall | f1-score | accuracy | weighted avg | loss \n",
    "|:----:|:------:|:-------:|:------------:|:-----------:|:-----------:|:-------------:|:---:\n",
    "CNN|0|0.93|0.95|0.94|94.19%|0.94|0.158\n",
    " | |1| 0.95|0.93|0.94| |0.94\n",
    "LSTM|0|0.95|0.94|0.94|94.150%|0.94|0.166\n",
    " | |1| 0.94|0.95|0.94| |0.94\n",
    "GRU|0|0.94|0.95|0.95|94.917%|0.95|0.137\n",
    " | |1| 0.95|0.94|0.95| |0.95"
   ]
  },
  {
   "cell_type": "markdown",
   "id": "83831d70",
   "metadata": {},
   "source": [
    "# Discussion and Future Improvement\n",
    "\n",
    "## Discussion of CNN\n",
    "From the confusion matrix and classification report, it shows that the data set is balanced, so it can achieve high accuracy. On the other hand, if the data set is imbalanced, we may use much data to train the model.\n",
    "In this task, I manually choose the parameters to find the best model, and in the future, I can use cross validation such as k-fold for hyper-parameters tuning, which will be more effective and more correct.\n",
    "Furthermore, I can try to use keras and tensorflow to build the model, which is different from pytorch, but is also effective in machine learning and deep learning.  \n",
    "\n",
    "## Discussion of LSTM\n",
    "From the above classfication report and confusion matrix, it is obvious that micro and macro metircs are quite close, so this is a balance dataset.The original accuracy is 92.388%. But after all work have done, we changed the dropout from 0.5 to 0.2 to get a more optimal model. The accuracy of the new model is 94.15%, which is higher than 92.388%. This is probobaly beacuse the high dropout caused some information loss and LSTM failed to predict correctly. During the hyperparamter tuning, I changed the number of epochs and batch size manullay, the accuracy was always around 90% and it took 30 minutes to run each epoch. So there are still more I can improve in the future, I may use RandomSearchCV function to find much better parameters for LSTM model. \n",
    "\n",
    "## Discussion of GRU\n",
    "As can be seen from the confusion matrix and classification report, the dataset is balanced, so high accuracy can be achieved.The accuracy rate of the model is close to 95%. In this model, the hidden layer dimension and dropout of the model, the number of GRU layers, and the learning rate are all manually adjusted by me, which does not mean that the current parameters are the GRU model. In the future, I will use the cross-validation method to adjust the optimal hyperparameters of the model to obtain the best performance of the model. When comparing with LSTM model, GRU model runs faster than LSTM model due to its simple parameters. But the model behaves pretty much the same. When both of them are optimal in terms of specific tasks and parameters, their performance is similar. But for this project, the accuracy of GRU model is slightly higher than that of LSTM. Therefore, we choose the GRU model as the final model.  \n",
    "\n",
    "## Overall Discussion\n",
    "We could see from the table of results, all of these 3 models reached test accuracy of 94%, which is really a nice performance. The GRU model performs slightly better. We tried several times  without changing parameters and hyperparameters, the GRU model always have the highest accuracy. Therefore, we finally decide to use the GRU model.  \n",
    "In this project, we used three models for comparison, which can not only consolidate knowledge, but also compare which model is more suitable for this project.   \n",
    "In future work, we can optimize the model by adjusting the parameters, such as adjusting the dropout value in the LSTM model, adding cross-validation to the CNN model to find the optimal parameters, and increasing the amount of data. After all, our project only uses half of the dataset."
   ]
  }
 ],
 "metadata": {
  "kernelspec": {
   "display_name": "Python 3 (ipykernel)",
   "language": "python",
   "name": "python3"
  },
  "language_info": {
   "codemirror_mode": {
    "name": "ipython",
    "version": 3
   },
   "file_extension": ".py",
   "mimetype": "text/x-python",
   "name": "python",
   "nbconvert_exporter": "python",
   "pygments_lexer": "ipython3",
   "version": "3.9.7"
  }
 },
 "nbformat": 4,
 "nbformat_minor": 5
}
