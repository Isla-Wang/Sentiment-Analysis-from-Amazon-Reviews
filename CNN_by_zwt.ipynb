{
 "cells": [
  {
   "cell_type": "code",
   "execution_count": null,
   "metadata": {
    "id": "_bYh31s5_f2K"
   },
   "outputs": [],
   "source": [
    "from google.colab import drive"
   ]
  },
  {
   "cell_type": "code",
   "execution_count": null,
   "metadata": {
    "colab": {
     "base_uri": "https://localhost:8080/"
    },
    "id": "ySm4BY65ZSbg",
    "outputId": "0cb665ea-dbda-4c4b-cc60-4ebfd84f98c6"
   },
   "outputs": [
    {
     "name": "stdout",
     "output_type": "stream",
     "text": [
      "Drive already mounted at /content/drive; to attempt to forcibly remount, call drive.mount(\"/content/drive\", force_remount=True).\n"
     ]
    }
   ],
   "source": [
    "from google.colab import drive\n",
    "drive.mount('/content/drive')"
   ]
  },
  {
   "cell_type": "code",
   "execution_count": null,
   "metadata": {
    "id": "gFGuqKf8F-7t"
   },
   "outputs": [],
   "source": [
    "import numpy as np\n",
    "import pandas as pd"
   ]
  },
  {
   "cell_type": "markdown",
   "metadata": {
    "id": "h1jQCFeH_yG8"
   },
   "source": [
    "# Prepare all files\n",
    "Using the word vector created by Shu Wang"
   ]
  },
  {
   "cell_type": "code",
   "execution_count": null,
   "metadata": {
    "id": "jb3H6nCkGMfX"
   },
   "outputs": [],
   "source": [
    "index2word_path = \"/content/drive/MyDrive/Colab Notebooks/index2vec.npy\" # index2word[idx] = word (list)\n",
    "word2index_path = \"/content/drive/MyDrive/Colab Notebooks//word2index.npy\"\n",
    "index2vec_path = \"/content/drive/MyDrive/Colab Notebooks/index2vec.npy\"\n",
    "train_ids_path = \"/content/drive/MyDrive/Colab Notebooks/train_ids.npy\"\n",
    "test_ids_path = \"/content/drive/MyDrive/Colab Notebooks/test_ids.npy\"\n",
    "y_train_path = \"/content/drive/MyDrive/Colab Notebooks/train_labels.npy\"\n",
    "y_test_path = \"/content/drive/MyDrive/Colab Notebooks/test_labels.npy\""
   ]
  },
  {
   "cell_type": "markdown",
   "metadata": {
    "id": "SItC4N9yPPPN"
   },
   "source": [
    "load data"
   ]
  },
  {
   "cell_type": "code",
   "execution_count": null,
   "metadata": {
    "id": "uTVSwftYGbiH"
   },
   "outputs": [],
   "source": [
    "x_ids_train = np.load(train_ids_path, allow_pickle=True)\n",
    "x_ids_test = np.load(test_ids_path, allow_pickle=True)\n",
    "y_train = np.load(y_train_path, allow_pickle=True)\n",
    "y_test = np.load(y_test_path, allow_pickle=True)"
   ]
  },
  {
   "cell_type": "code",
   "execution_count": null,
   "metadata": {
    "id": "ofuyYHbyGcy7"
   },
   "outputs": [],
   "source": [
    "# get word vector\n",
    "index2word = np.load(index2word_path, allow_pickle=True)\n",
    "word2index = np.load(word2index_path, allow_pickle=True).item()\n",
    "index2vec = np.load(index2vec_path, allow_pickle=True)"
   ]
  },
  {
   "cell_type": "markdown",
   "metadata": {
    "id": "wQBl3udZPSqM"
   },
   "source": [
    "Check length of each. There should not be output."
   ]
  },
  {
   "cell_type": "code",
   "execution_count": null,
   "metadata": {
    "id": "ywd4vTiGGfvA"
   },
   "outputs": [],
   "source": [
    "if len(index2word) != 247241 or len(word2index) != 247241 or len(index2vec) != 247241:\n",
    "    print('error')"
   ]
  },
  {
   "cell_type": "markdown",
   "metadata": {
    "id": "ff0zWyYJ_7u2"
   },
   "source": [
    "# Build the model (CNN)\n",
    "Using pytorch to build the CNN model."
   ]
  },
  {
   "cell_type": "code",
   "execution_count": null,
   "metadata": {
    "id": "MTx7cpueGd2_"
   },
   "outputs": [],
   "source": [
    "import torchtext\n",
    "import torch\n",
    "import torch.nn as nn\n",
    "import torch.nn.functional as F\n",
    "import torch.optim as optim\n",
    "from torch.utils.data import Dataset,TensorDataset\n",
    "from torchtext import data,datasets"
   ]
  },
  {
   "cell_type": "markdown",
   "metadata": {
    "id": "G6NxAkFnAMVi"
   },
   "source": [
    "Use 1-dimensional convolutional layers, where the embedding dimension is the \n",
    "\"depth\" of the filter and the number of tokens in the sentence is the width."
   ]
  },
  {
   "cell_type": "code",
   "execution_count": null,
   "metadata": {
    "id": "XoTfbtBzGfLp"
   },
   "outputs": [],
   "source": [
    "class CNN1d(nn.Module):\n",
    "    def __init__(self, vocab_size, embedding_dim, n_filters, filter_sizes, output_dim, \n",
    "                 dropout, pad_idx):\n",
    "        \n",
    "        super().__init__()\n",
    "        \n",
    "        # embedding_dim=100, which means the dim of each word vector\n",
    "        self.embedding = nn.Embedding(vocab_size, embedding_dim, padding_idx = pad_idx)\n",
    "        \n",
    "        self.convs = nn.ModuleList([\n",
    "                                    nn.Conv1d(in_channels = embedding_dim, \n",
    "                                              out_channels = n_filters, \n",
    "                                              kernel_size = fs)\n",
    "                                    for fs in filter_sizes\n",
    "                                    ])\n",
    "        \n",
    "        self.fc = nn.Linear(len(filter_sizes) * n_filters, output_dim)\n",
    "        \n",
    "        self.dropout = nn.Dropout(dropout)    # Avoid overfitting dropout=0.5\n",
    "        \n",
    "    def forward(self, text):\n",
    "        \n",
    "        #text = [batch size, sent len]\n",
    "        \n",
    "        embedded = self.embedding(text)\n",
    "                \n",
    "        #embedded = [batch size, sent len, emb dim]\n",
    "       \n",
    "        embedded = embedded.permute(0, 2, 1)\n",
    "        \n",
    "        #embedded = [batch size, emb dim, sent len]\n",
    "        \n",
    "        conved = [F.relu(conv(embedded)) for conv in self.convs]  # using ReLu activation\n",
    "            \n",
    "        #conved_n = [batch size, n_filters, sent len - filter_sizes[n] + 1]\n",
    "        \n",
    "        pooled = [F.max_pool1d(conv, conv.shape[2]).squeeze(2) for conv in conved]  # using max pooling to find the 'most important' feature\n",
    "        \n",
    "        #pooled_n = [batch size, n_filters]\n",
    "        \n",
    "        cat = self.dropout(torch.cat(pooled, dim = 1))  # avoid overfitting, dropout=0.5\n",
    "        \n",
    "        #cat = [batch size, n_filters * len(filter_sizes)]\n",
    "            \n",
    "        return self.fc(cat)\n",
    "    "
   ]
  },
  {
   "cell_type": "markdown",
   "metadata": {
    "id": "NAybLqKJDFdj"
   },
   "source": [
    "Test whether can use GPU."
   ]
  },
  {
   "cell_type": "code",
   "execution_count": null,
   "metadata": {
    "id": "9HwacgfNGjjN"
   },
   "outputs": [],
   "source": [
    "device = torch.device('cuda' if torch.cuda.is_available() else 'cpu')"
   ]
  },
  {
   "cell_type": "code",
   "execution_count": null,
   "metadata": {
    "id": "rw2mX5QeGk2I"
   },
   "outputs": [],
   "source": [
    "batch_size = 512\n",
    "\n",
    "test_data = TensorDataset(torch.from_numpy(x_ids_test).to(device), torch.from_numpy(y_test).to(device))\n",
    "\n",
    "train_data = x_ids_train[:1700000]    # train_data size = 1700000\n",
    "valid_data = x_ids_train[1700000:]\n",
    "y_train_data = y_train[:1700000]    # validation_data size = 100000\n",
    "y_valid_data = y_train[1700000:]\n",
    "\n",
    "train_data = TensorDataset(torch.from_numpy(train_data).to(device), torch.from_numpy(y_train_data).to(device))\n",
    "valid_data = TensorDataset(torch.from_numpy(valid_data).to(device), torch.from_numpy(y_valid_data).to(device))\n",
    "\n",
    "\n",
    "train_iterator = torch.utils.data.DataLoader(train_data, \n",
    "                                             batch_size, \n",
    "                                             shuffle = True, \n",
    "                                             )\n",
    "valid_iterator = torch.utils.data.DataLoader(valid_data, \n",
    "                                             batch_size, \n",
    "                                             shuffle = True, \n",
    "                                             )\n",
    "test_iterator = torch.utils.data.DataLoader(test_data, \n",
    "                                            batch_size, \n",
    "                                            shuffle = False, \n",
    "                                            )"
   ]
  },
  {
   "cell_type": "markdown",
   "metadata": {
    "id": "UJNCdmNJDB8K"
   },
   "source": [
    "Set the parameters."
   ]
  },
  {
   "cell_type": "code",
   "execution_count": null,
   "metadata": {
    "id": "ko6XHfK7GrKF"
   },
   "outputs": [],
   "source": [
    "INPUT_DIM = len(word2index)\n",
    "EMBEDDING_DIM = 100   # the dim of each word vector\n",
    "N_FILTERS = 150   # total = 150 * 4 = 600\n",
    "FILTER_SIZES = [2,3,4,5]  #  four different sizes of filters to cover 2, 3, 4, 5 sequential words\n",
    "OUTPUT_DIM = 1  # only one output of the probability\n",
    "DROPOUT = 0.5  # avoid overfitting\n",
    "PAD_IDX = word2index['<pad>']\n",
    "\n",
    "model = CNN1d(INPUT_DIM, EMBEDDING_DIM, N_FILTERS, FILTER_SIZES, OUTPUT_DIM, DROPOUT, PAD_IDX)"
   ]
  },
  {
   "cell_type": "markdown",
   "metadata": {
    "id": "PEhD_yyrA1ze"
   },
   "source": [
    "Load the pre-trained embeddings."
   ]
  },
  {
   "cell_type": "code",
   "execution_count": null,
   "metadata": {
    "colab": {
     "base_uri": "https://localhost:8080/"
    },
    "id": "X8ubfdFDGtmZ",
    "outputId": "a3a7b6ab-0cf2-47a7-a56b-3e49ad95d0fc"
   },
   "outputs": [
    {
     "data": {
      "text/plain": [
       "tensor([[ 0.5362, -1.3032,  1.0179,  ...,  0.8529, -1.2968,  1.5806],\n",
       "        [-0.2687, -0.3067,  1.4581,  ..., -0.0285, -0.5613, -0.7968],\n",
       "        [ 1.2081, -1.2739, -0.5806,  ...,  0.9084, -0.2043,  0.5994],\n",
       "        ...,\n",
       "        [ 0.0245,  0.2965, -0.1585,  ...,  0.0347,  0.0736, -0.0479],\n",
       "        [-0.0387,  0.0784, -0.0191,  ...,  0.0271, -0.0750,  0.0445],\n",
       "        [ 0.0000,  0.0000,  0.0000,  ...,  0.0000,  0.0000,  0.0000]])"
      ]
     },
     "execution_count": 18,
     "metadata": {},
     "output_type": "execute_result"
    }
   ],
   "source": [
    "embedding_matrix = torch.from_numpy(index2vec)\n",
    "model.embedding.weight.data.copy_(embedding_matrix)"
   ]
  },
  {
   "cell_type": "markdown",
   "metadata": {
    "id": "G4vOqFxOBMhs"
   },
   "source": [
    "# Train the Model\n",
    "Initialize the optimizer (Adam), loss function (BCEWithLogitsLoss) and place the model"
   ]
  },
  {
   "cell_type": "code",
   "execution_count": null,
   "metadata": {
    "id": "GIq6pP7iGulk"
   },
   "outputs": [],
   "source": [
    "import torch.optim as optim\n",
    "# Define the loss function and optimize the method\n",
    "optimizer = optim.Adam(model.parameters())\n",
    "criterion = nn.BCEWithLogitsLoss()    # as this is a binary classification\n",
    "#criterion = nn.CrossEntropyLoss()     cross entropy is less effective as BCE\n",
    "\n",
    "model = model.to(device)\n",
    "criterion = criterion.to(device)"
   ]
  },
  {
   "cell_type": "markdown",
   "metadata": {
    "id": "gysni1QdB0UT"
   },
   "source": [
    "Define a function for training the model."
   ]
  },
  {
   "cell_type": "code",
   "execution_count": null,
   "metadata": {
    "id": "tMi6frMdGyjJ"
   },
   "outputs": [],
   "source": [
    "def train(model, iterator, optimizer, criterion):\n",
    "    \n",
    "    epoch_loss = 0\n",
    "    epoch_acc = 0\n",
    "    \n",
    "    model.train()\n",
    "    \n",
    "    for batch in iterator:    # batch = [text, label]\n",
    "\n",
    "        text = batch[0]\n",
    "\n",
    "        label = batch[1].float()\n",
    "\n",
    "        optimizer.zero_grad() # The gradient calculation result of the previous batch is not required when the next batch gradient calculation is performed\n",
    "\n",
    "        predictions = model(text).squeeze(1)\n",
    "\n",
    "        round_pred = torch.round(torch.sigmoid(predictions))    # to make the output between 0 to 1\n",
    "        \n",
    "        loss = criterion(predictions, label)  # nn.BCEWithLogitsLoss() \n",
    "\n",
    "        correct = (round_pred == label).float()\n",
    "\n",
    "        acc = correct.sum() / len(correct)  # Calculate accuracy, which will return accuracy every patch\n",
    "\n",
    "        #print(f'\\tTrain Loss: {loss:.3f} | Train Acc: {acc*100:.2f}%')\n",
    "        \n",
    "        loss.backward()   # loss derivative\n",
    "        \n",
    "        optimizer.step()  # Update parameters\n",
    "        \n",
    "        epoch_loss += loss.item()   # tensor.item() gets the value of tensor\n",
    "        epoch_acc += acc.item()\n",
    "\n",
    "        loss = epoch_loss / len(iterator) # calculate loss and accuracy\n",
    "        acc = epoch_acc / len(iterator)\n",
    "        \n",
    "    return loss, acc"
   ]
  },
  {
   "cell_type": "markdown",
   "metadata": {
    "id": "DnPe9rdFB69-"
   },
   "source": [
    "Define a function for testing the model."
   ]
  },
  {
   "cell_type": "code",
   "execution_count": null,
   "metadata": {
    "id": "v7WLe9mtbb5g"
   },
   "outputs": [],
   "source": [
    "def evaluate(model, iterator, criterion):\n",
    "    \n",
    "    epoch_loss = 0\n",
    "    epoch_acc = 0\n",
    "    \n",
    "    model.eval()\n",
    "    predic = []\n",
    "\n",
    "    with torch.no_grad(): # will not track the gradient\n",
    "    \n",
    "        for batch in iterator:\n",
    "\n",
    "            text = batch[0]\n",
    "\n",
    "            label = batch[1].float()\n",
    "\n",
    "            predictions = model(text).squeeze(1)\n",
    "\n",
    "            round_pred = torch.round(torch.sigmoid(predictions))\n",
    "\n",
    "            predic.append(round_pred)\n",
    "            \n",
    "            loss = criterion(predictions, label)\n",
    "\n",
    "            correct = (round_pred == label).float()\n",
    "\n",
    "            acc = correct.sum() / len(correct)      \n",
    "\n",
    "            epoch_loss += loss.item()\n",
    "            epoch_acc += acc.item()\n",
    "\n",
    "            loss = epoch_loss / len(iterator)\n",
    "            acc = epoch_acc / len(iterator)\n",
    "        \n",
    "    return loss, acc, predic"
   ]
  },
  {
   "cell_type": "markdown",
   "metadata": {
    "id": "R7QVvbzKCQCg"
   },
   "source": [
    "Start training the model.\n",
    "\n",
    "After training the model with different epochs, I set the number of epochs to 4 to avoid overfitting."
   ]
  },
  {
   "cell_type": "code",
   "execution_count": null,
   "metadata": {
    "colab": {
     "base_uri": "https://localhost:8080/"
    },
    "id": "6S7Pe0WRG1Dw",
    "outputId": "a0b9e9bc-f77d-458a-bf24-77018f7c9ea5"
   },
   "outputs": [
    {
     "name": "stdout",
     "output_type": "stream",
     "text": [
      "Epoch: 01\n",
      "\tTrain Loss: 0.219 | Train Acc: 91.24%\n",
      "\t Val. Loss: 0.172 |  Val. Acc: 93.45%\n",
      "Epoch: 02\n",
      "\tTrain Loss: 0.170 | Train Acc: 93.54%\n",
      "\t Val. Loss: 0.162 |  Val. Acc: 93.92%\n",
      "Epoch: 03\n",
      "\tTrain Loss: 0.153 | Train Acc: 94.30%\n",
      "\t Val. Loss: 0.156 |  Val. Acc: 94.25%\n",
      "Epoch: 04\n",
      "\tTrain Loss: 0.142 | Train Acc: 94.80%\n",
      "\t Val. Loss: 0.157 |  Val. Acc: 94.18%\n"
     ]
    }
   ],
   "source": [
    "N_EPOCHS = 4\n",
    "\n",
    "best_valid_loss = float('inf')\n",
    "\n",
    "trainloss = []\n",
    "trainacc = []\n",
    "vloss = []\n",
    "vacc = []\n",
    "epo = []\n",
    "\n",
    "for epoch in range(N_EPOCHS):\n",
    "    epo.append(epoch + 1)\n",
    "    train_loss, train_acc = train(model, train_iterator, optimizer, criterion)\n",
    "    valid_loss, valid_acc, valid_label = evaluate(model, valid_iterator, criterion)\n",
    "    # reocrd loss and accuracy in each epoch\n",
    "    trainloss.append(train_loss)\n",
    "    trainacc.append(train_acc)\n",
    "    vloss.append(valid_loss)\n",
    "    vacc.append(valid_acc)  \n",
    "    torch.save(model.state_dict(), './CNN_good_model.pt')\n",
    " \n",
    "    print(f'Epoch: {epoch+1:02}')\n",
    "    print(f'\\tTrain Loss: {train_loss:.3f} | Train Acc: {train_acc*100:.2f}%')\n",
    "    print(f'\\t Val. Loss: {valid_loss:.3f} |  Val. Acc: {valid_acc*100:.2f}%')"
   ]
  },
  {
   "cell_type": "code",
   "execution_count": null,
   "metadata": {
    "colab": {
     "base_uri": "https://localhost:8080/",
     "height": 281
    },
    "id": "cT5Zbs2zDM-j",
    "outputId": "23c0b84b-5eb7-49ef-8bb5-dcd3ff24793b"
   },
   "outputs": [
    {
     "data": {
      "image/png": "[encoded data removed]",
      "text/plain": [
       "<Figure size 432x288 with 1 Axes>"
      ]
     },
     "metadata": {
      "needs_background": "light"
     },
     "output_type": "display_data"
    }
   ],
   "source": [
    "import numpy as np\n",
    "import matplotlib.pyplot as plt\n",
    "\n",
    "plt.plot(epo,trainacc,label = \"train accuracy\")\n",
    "plt.plot(epo,vacc,label = \"validation accuracy\")\n",
    "\n",
    "plt.legend()\n",
    "plt.title('Accuracy')\n",
    "plt.show()"
   ]
  },
  {
   "cell_type": "code",
   "execution_count": null,
   "metadata": {
    "colab": {
     "base_uri": "https://localhost:8080/",
     "height": 281
    },
    "id": "7exwZdxHD51p",
    "outputId": "f8c9f492-cc1d-42e7-f8e7-bebfbf09df53"
   },
   "outputs": [
    {
     "data": {
      "image/png": "[encoded data removed]",
      "text/plain": [
       "<Figure size 432x288 with 1 Axes>"
      ]
     },
     "metadata": {
      "needs_background": "light"
     },
     "output_type": "display_data"
    }
   ],
   "source": [
    "plt.plot(epo,trainloss,label = \"train loss\")\n",
    "plt.plot(epo,vloss,label = \"validation loss\")\n",
    "plt.legend()\n",
    "plt.title('Loss')\n",
    "plt.show()"
   ]
  },
  {
   "cell_type": "markdown",
   "metadata": {
    "id": "9PNp2yaWChzp"
   },
   "source": [
    "# Final result"
   ]
  },
  {
   "cell_type": "code",
   "execution_count": null,
   "metadata": {
    "colab": {
     "base_uri": "https://localhost:8080/"
    },
    "id": "EheGAUyeG2Jx",
    "outputId": "0bcd993e-7f14-4a68-b9c4-20851e8cb57a"
   },
   "outputs": [
    {
     "name": "stdout",
     "output_type": "stream",
     "text": [
      "Test Loss: 0.158 | Test Acc: 94.19%\n"
     ]
    }
   ],
   "source": [
    "test_loss, test_acc, test_pred = evaluate(model, test_iterator, criterion)\n",
    "\n",
    "print(f'Test Loss: {test_loss:.3f} | Test Acc: {test_acc*100:.2f}%')"
   ]
  },
  {
   "cell_type": "code",
   "execution_count": null,
   "metadata": {
    "id": "wPRZBt08-nOI"
   },
   "outputs": [],
   "source": [
    "list1 = []\n",
    "for i in test_pred:\n",
    "  for j in i:\n",
    "    list1.append(j)"
   ]
  },
  {
   "cell_type": "code",
   "execution_count": null,
   "metadata": {
    "colab": {
     "base_uri": "https://localhost:8080/"
    },
    "id": "N3Ijfekq-E1v",
    "outputId": "9a0b4e2e-3d7f-4c2c-c80c-ffe48c45c33c"
   },
   "outputs": [
    {
     "name": "stdout",
     "output_type": "stream",
     "text": [
      "Classification matrix : \n",
      " [[93168  6930]\n",
      " [ 4676 95226]]\n",
      "\n",
      "Classification report : \n",
      "               precision    recall  f1-score   support\n",
      "\n",
      "           1       0.93      0.95      0.94     99902\n",
      "           0       0.95      0.93      0.94    100098\n",
      "\n",
      "    accuracy                           0.94    200000\n",
      "   macro avg       0.94      0.94      0.94    200000\n",
      "weighted avg       0.94      0.94      0.94    200000\n",
      "\n"
     ]
    }
   ],
   "source": [
    "ytest = torch.from_numpy(y_test).cpu()\n",
    "list2 = torch.tensor(list1).cpu()\n",
    "from sklearn.metrics import f1_score, confusion_matrix, classification_report\n",
    "matrix = classification_report(ytest, list2,labels=[1,0], zero_division=0.0)\n",
    "print('Classification matrix : \\n',confusion_matrix(ytest, list2))\n",
    "print('\\nClassification report : \\n',matrix)"
   ]
  },
  {
   "cell_type": "code",
   "execution_count": null,
   "metadata": {
    "colab": {
     "base_uri": "https://localhost:8080/",
     "height": 281
    },
    "id": "5ZPerpxdBhQX",
    "outputId": "92d464a2-74df-4670-de07-bdd85220ea7a"
   },
   "outputs": [
    {
     "data": {
      "image/png": "[encoded data removed]",
      "text/plain": [
       "<Figure size 432x288 with 2 Axes>"
      ]
     },
     "metadata": {
      "needs_background": "light"
     },
     "output_type": "display_data"
    }
   ],
   "source": [
    "import seaborn as sns\n",
    "sns.heatmap(pd.DataFrame(classification_report(\n",
    "         ytest, list2, zero_division=0.0,output_dict=True)).iloc[:-1, :].T, annot=True)\n",
    "plt.title('Classification report')\n",
    "plt.show()"
   ]
  },
  {
   "cell_type": "markdown",
   "metadata": {
    "id": "FmwZMyF4EHcQ"
   },
   "source": [
    "## Model analysis\n",
    "From the confusion matrix and classification report, it shows that the data set is balanced, so it can achieve high accuracy. On the other hand, if the data set is imbalanced, we may use much data to train the model.\n",
    "In this task, I manually choose the parameters to find the best model, and in the future, I can use cross validation such as k-fold for hyper-parameters tuning, which will be more effective and more correct.\n",
    "Furthermore, I can try to use keras and tensorflow to build the model, which is different from pytorch, but is also effective in machine learning and deep learning."
   ]
  },
  {
   "cell_type": "code",
   "execution_count": null,
   "metadata": {
    "id": "ZC6ge2zHKVb1"
   },
   "outputs": [],
   "source": []
  }
 ],
 "metadata": {
  "accelerator": "GPU",
  "colab": {
   "collapsed_sections": [],
   "name": "CNN_by_zwt.ipynb",
   "provenance": []
  },
  "gpuClass": "standard",
  "kernelspec": {
   "display_name": "Python 3 (ipykernel)",
   "language": "python",
   "name": "python3"
  },
  "language_info": {
   "codemirror_mode": {
    "name": "ipython",
    "version": 3
   },
   "file_extension": ".py",
   "mimetype": "text/x-python",
   "name": "python",
   "nbconvert_exporter": "python",
   "pygments_lexer": "ipython3",
   "version": "3.9.7"
  }
 },
 "nbformat": 4,
 "nbformat_minor": 1
}
