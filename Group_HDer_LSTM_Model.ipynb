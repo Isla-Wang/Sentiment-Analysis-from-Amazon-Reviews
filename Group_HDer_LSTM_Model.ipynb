{
 "cells": [
  {
   "cell_type": "markdown",
   "id": "cbe98810",
   "metadata": {},
   "source": [
    "# LSTM Model \n",
    "**Group:** HDer  \n",
    "**Group Members:**  \n",
    "Shu Wang (z5211077)  \n",
    "Wanxiao Huang (z5222629)  \n",
    "Wanting Zhou (z5347036)  \n",
    "Kanghong Yu (z5413510)  \n",
    "Yinglu  Yang (z5390317) "
   ]
  },
  {
   "cell_type": "markdown",
   "id": "ea004d10",
   "metadata": {},
   "source": [
    "This notebook is only for LSTM Model. We use a seperate notebook because training of this model takes too long.    \n",
    "If you want to run this notebook, please run the main notebook first to get files need for the notebook."
   ]
  },
  {
   "cell_type": "code",
   "execution_count": 3,
   "id": "bdf7d82f",
   "metadata": {
    "executionInfo": {
     "elapsed": 4,
     "status": "ok",
     "timestamp": 1659434939851,
     "user": {
      "displayName": "Yinglu Yang",
      "userId": "06798211007446135178"
     },
     "user_tz": -480
    },
    "id": "XQimiw_UHELF"
   },
   "outputs": [],
   "source": [
    "import numpy as np\n",
    "import pandas as pd"
   ]
  },
  {
   "cell_type": "code",
   "execution_count": 4,
   "id": "864e8c76",
   "metadata": {
    "executionInfo": {
     "elapsed": 3,
     "status": "ok",
     "timestamp": 1659434939851,
     "user": {
      "displayName": "Yinglu Yang",
      "userId": "06798211007446135178"
     },
     "user_tz": -480
    },
    "id": "YH3CLqawHELG"
   },
   "outputs": [],
   "source": [
    "root_dir = ''\n",
    "index2word_path = root_dir + \"index2word.npy\" # index2word[idx] = word (list)\n",
    "word2index_path = root_dir + \"word2index.npy\" # word2index[word] = idx (dict)\n",
    "index2vec_path = root_dir + \"index2vec.npy\" # index2vec[idx] = vector (100D)\n",
    "train_ids_npy_path = root_dir + \"train_ids.npy\"\n",
    "test_ids_npy_path = root_dir + \"test_ids.npy\"\n",
    "train_label_npy_path = root_dir + \"train_labels.npy\"\n",
    "test_label_npy_path = root_dir + \"test_labels.npy\"\n",
    "\n",
    "# file for sample vector files (180,000 and 20,000)\n",
    "sample_train_vectors_npy_path = root_dir + \"sample_train_vectors.npy\"\n",
    "sample_test_vectors_npy_path = root_dir + \"sample_test_vectors.npy\"\n",
    "sample_train_label_npy_path = root_dir + \"sample_train_labels.npy\"\n",
    "sample_test_label_npy_path = root_dir + \"sample_test_labels.npy\""
   ]
  },
  {
   "cell_type": "code",
   "execution_count": 5,
   "id": "b2b91a14",
   "metadata": {
    "executionInfo": {
     "elapsed": 12470,
     "status": "ok",
     "timestamp": 1659434952318,
     "user": {
      "displayName": "Yinglu Yang",
      "userId": "06798211007446135178"
     },
     "user_tz": -480
    },
    "id": "huv4Q0gcHELJ"
   },
   "outputs": [],
   "source": [
    "# read .npy file \n",
    "X_train = np.load(train_ids_npy_path, allow_pickle=True)\n",
    "test_id_list = np.load(test_ids_npy_path, allow_pickle=True)\n",
    "y_train = np.load(train_label_npy_path, allow_pickle=True)\n",
    "test_label = np.load(test_label_npy_path, allow_pickle=True)"
   ]
  },
  {
   "cell_type": "code",
   "execution_count": 6,
   "id": "ad34a8aa",
   "metadata": {
    "executionInfo": {
     "elapsed": 3175,
     "status": "ok",
     "timestamp": 1659434955490,
     "user": {
      "displayName": "Yinglu Yang",
      "userId": "06798211007446135178"
     },
     "user_tz": -480
    },
    "id": "oeVNpHNrHELK"
   },
   "outputs": [],
   "source": [
    "index2word = np.load(index2word_path, allow_pickle=True)\n",
    "word2index = np.load(word2index_path, allow_pickle=True).item()\n",
    "index2vec = np.load(index2vec_path, allow_pickle=True)"
   ]
  },
  {
   "cell_type": "code",
   "execution_count": 7,
   "id": "8debb819",
   "metadata": {
    "executionInfo": {
     "elapsed": 528,
     "status": "ok",
     "timestamp": 1659434956013,
     "user": {
      "displayName": "Yinglu Yang",
      "userId": "06798211007446135178"
     },
     "user_tz": -480
    },
    "id": "Hl47upEmHELK"
   },
   "outputs": [],
   "source": [
    "# split the test set into validation set and test set\n",
    "from sklearn.model_selection import train_test_split\n",
    "X_val, X_test, y_val, y_test = train_test_split(test_id_list, test_label, test_size=0.5, shuffle=False)"
   ]
  },
  {
   "cell_type": "code",
   "execution_count": 8,
   "id": "bb370f36",
   "metadata": {
    "colab": {
     "base_uri": "https://localhost:8080/"
    },
    "executionInfo": {
     "elapsed": 3,
     "status": "ok",
     "timestamp": 1659434956013,
     "user": {
      "displayName": "Yinglu Yang",
      "userId": "06798211007446135178"
     },
     "user_tz": -480
    },
    "id": "B_RbZdQsVaLU",
    "outputId": "352c07ad-61b1-4cd2-80d0-a36817860a00"
   },
   "outputs": [
    {
     "name": "stdout",
     "output_type": "stream",
     "text": [
      "The size of traning dataset 1800000\n",
      "The size of validation dataset 100000\n",
      "The size of testing dataset 100000\n"
     ]
    }
   ],
   "source": [
    "print(\"The size of traning dataset\", len(X_train))\n",
    "print(\"The size of validation dataset\", len(X_val))\n",
    "print(\"The size of testing dataset\", len(X_test))"
   ]
  },
  {
   "cell_type": "markdown",
   "id": "f1cafed1",
   "metadata": {
    "id": "Dtlx3qZQHELL"
   },
   "source": [
    "## LSTM model"
   ]
  },
  {
   "cell_type": "code",
   "execution_count": 9,
   "id": "4941cfac",
   "metadata": {
    "executionInfo": {
     "elapsed": 2281,
     "status": "ok",
     "timestamp": 1659434958292,
     "user": {
      "displayName": "Yinglu Yang",
      "userId": "06798211007446135178"
     },
     "user_tz": -480
    },
    "id": "Px3TwlfBHELL"
   },
   "outputs": [],
   "source": [
    "import torch\n",
    "import torch.nn as nn\n",
    "from torch.utils.data import TensorDataset, DataLoader\n",
    "import math"
   ]
  },
  {
   "cell_type": "code",
   "execution_count": 10,
   "id": "cd01a534",
   "metadata": {
    "colab": {
     "base_uri": "https://localhost:8080/"
    },
    "executionInfo": {
     "elapsed": 502,
     "status": "ok",
     "timestamp": 1659434958790,
     "user": {
      "displayName": "Yinglu Yang",
      "userId": "06798211007446135178"
     },
     "user_tz": -480
    },
    "id": "VJCUQvLaHELN",
    "outputId": "91a7f35d-20f4-4864-a4c8-3ea92236a761"
   },
   "outputs": [
    {
     "data": {
      "text/plain": [
       "device(type='cuda')"
      ]
     },
     "execution_count": 10,
     "metadata": {},
     "output_type": "execute_result"
    }
   ],
   "source": [
    "device = torch.device(\"cuda\") if torch.cuda.is_available() else torch.device(\"cpu\")\n",
    "device"
   ]
  },
  {
   "cell_type": "code",
   "execution_count": 14,
   "id": "adfd2c06",
   "metadata": {
    "executionInfo": {
     "elapsed": 2,
     "status": "ok",
     "timestamp": 1659434998180,
     "user": {
      "displayName": "Yinglu Yang",
      "userId": "06798211007446135178"
     },
     "user_tz": -480
    },
    "id": "mmvhAohAHELP"
   },
   "outputs": [],
   "source": [
    "class LSTMNet(nn.Module):\n",
    "    \"\"\"\n",
    "    hidden_dim: the number of hidden nodes\n",
    "    num_layers: the number of layers\n",
    "    index2vec: the trained word vector\n",
    "    vocab_size: the size of the vocabulary, 247241\n",
    "    output_size: this is a binary classification, so it is 1\n",
    "    embedding_dim: the dimension of each word, 100\n",
    "    \"\"\"\n",
    "    def __init__(self, hidden_dim, num_layers, index2vec=index2vec, vocab_size=len(word2index), output_size=1, embedding_dim=100, drop_prob=0.5):\n",
    "        super(LSTMNet, self).__init__()\n",
    "        self.output_size = output_size\n",
    "        self.num_layers = num_layers\n",
    "        self.hidden_dim = hidden_dim\n",
    "        \n",
    "        self.embedding = nn.Embedding(vocab_size, embedding_dim)\n",
    "        # import trained word vector and set the back propagation to False\n",
    "        self.embedding.weight.data.copy_(torch.from_numpy(index2vec))\n",
    "        self.embedding.weight.requires_grad = False\n",
    "        \n",
    "        # define the LSTM\n",
    "        self.lstm = nn.LSTM(embedding_dim, self.hidden_dim, self.num_layers, dropout=drop_prob, batch_first=True)\n",
    "        # 20% dropout\n",
    "        self.dropout = nn.Dropout(0.2)\n",
    "        # connect to fully connected layers\n",
    "        self.fc = nn.Linear(self.hidden_dim, output_size)\n",
    "        self.sigmoid = nn.Sigmoid()\n",
    "\n",
    "    def init_hidden(self, batch_size):\n",
    "        weight = next(self.parameters()).data\n",
    "        # initialize hidden state, set all to zero\n",
    "        hidden = (weight.new(self.num_layers, batch_size, self.hidden_dim).zero_().to(device),\n",
    "              weight.new(self.num_layers, batch_size, self.hidden_dim).zero_().to(device))\n",
    "        return hidden\n",
    "\n",
    "        \n",
    "    def forward(self, x, hidden):\n",
    "        \"\"\"\n",
    "        x: the current input, (batch_size, setence_len)\n",
    "        hidden: the hidden state and cell state in the last moment, tuple (h,c)\n",
    "        \"\"\"\n",
    "        batch_size = x.size(0)\n",
    "        # change the type of x to LongTensor\n",
    "        x = x.long()\n",
    "        # words embedding \n",
    "        # embeds.shape: torch.Size([batch_size, setence_len, embedding_dim])\n",
    "        embeds = self.embedding(x)\n",
    "        # lstm_out: torch.Size([batch_size, setence_len, hidden_dim])\n",
    "        # hidden: (hidden_state, cell_state), torch.Size([num_layers, batch_size, hidden_dim])\n",
    "        lstm_out, hidden = self.lstm(embeds, hidden)\n",
    "        lstm_out = lstm_out.contiguous().view(-1, self.hidden_dim)\n",
    "        \n",
    "        out = self.dropout(lstm_out)\n",
    "        out = self.fc(out)\n",
    "        out = self.sigmoid(out)\n",
    "\n",
    "        # out:torch.Size([batch_size, setence_len])\n",
    "        out = out.view(batch_size, -1)\n",
    "        # out:torch.Size([batch_size])\n",
    "        out = out[:,-1]\n",
    "        return out, hidden"
   ]
  },
  {
   "cell_type": "code",
   "execution_count": 15,
   "id": "b26b76b5",
   "metadata": {
    "colab": {
     "base_uri": "https://localhost:8080/"
    },
    "executionInfo": {
     "elapsed": 6,
     "status": "ok",
     "timestamp": 1659435019332,
     "user": {
      "displayName": "Yinglu Yang",
      "userId": "06798211007446135178"
     },
     "user_tz": -480
    },
    "id": "-nlcPb2THELP",
    "outputId": "e1960ddb-902c-498a-f6ce-48b378a902eb"
   },
   "outputs": [
    {
     "name": "stdout",
     "output_type": "stream",
     "text": [
      "LSTMNet(\n",
      "  (embedding): Embedding(247241, 100)\n",
      "  (lstm): LSTM(100, 192, num_layers=2, batch_first=True, dropout=0.5)\n",
      "  (dropout): Dropout(p=0.3, inplace=False)\n",
      "  (fc): Linear(in_features=192, out_features=1, bias=True)\n",
      "  (sigmoid): Sigmoid()\n",
      ")\n"
     ]
    }
   ],
   "source": [
    "hidden_dim = 192\n",
    "num_layers = 2\n",
    "\n",
    "model = LSTMNet(hidden_dim, num_layers)\n",
    "model = model.to(device)\n",
    "print(model)"
   ]
  },
  {
   "cell_type": "code",
   "execution_count": 21,
   "id": "b09d889e",
   "metadata": {
    "executionInfo": {
     "elapsed": 2,
     "status": "ok",
     "timestamp": 1659435151229,
     "user": {
      "displayName": "Yinglu Yang",
      "userId": "06798211007446135178"
     },
     "user_tz": -480
    },
    "id": "u7H1sel4HELM"
   },
   "outputs": [],
   "source": [
    "batch_size = 200\n",
    "\n",
    "train_data = TensorDataset(torch.from_numpy(X_train), torch.from_numpy(y_train))\n",
    "val_data = TensorDataset(torch.from_numpy(X_val), torch.from_numpy(y_val))\n",
    "test_data = TensorDataset(torch.from_numpy(X_test), torch.from_numpy(y_test))\n",
    "\n",
    "train_loader = DataLoader(train_data, shuffle=True, batch_size=batch_size, drop_last=True)\n",
    "val_loader = DataLoader(val_data, shuffle=True, batch_size=batch_size, drop_last=True)\n",
    "test_loader = DataLoader(test_data, shuffle=False, batch_size=batch_size, drop_last=True)"
   ]
  },
  {
   "cell_type": "code",
   "execution_count": 18,
   "id": "436d45b6",
   "metadata": {
    "executionInfo": {
     "elapsed": 691,
     "status": "ok",
     "timestamp": 1659435034468,
     "user": {
      "displayName": "Yinglu Yang",
      "userId": "06798211007446135178"
     },
     "user_tz": -480
    },
    "id": "Pot6fDr3HELQ"
   },
   "outputs": [],
   "source": [
    "lr=0.001\n",
    "# Since this is a bianry classfication, we use Binary Cross Entropy(BCE)\n",
    "criterion = nn.BCELoss()\n",
    "optimizer = torch.optim.Adam(model.parameters(), lr=lr)"
   ]
  },
  {
   "cell_type": "markdown",
   "id": "ce068039",
   "metadata": {
    "id": "R2Kn_7JkQ16K"
   },
   "source": [
    "Train model"
   ]
  },
  {
   "cell_type": "code",
   "execution_count": null,
   "id": "cd4f0e22",
   "metadata": {
    "colab": {
     "base_uri": "https://localhost:8080/"
    },
    "executionInfo": {
     "elapsed": 6362173,
     "status": "ok",
     "timestamp": 1659380360889,
     "user": {
      "displayName": "Yinglu Yang",
      "userId": "06798211007446135178"
     },
     "user_tz": -480
    },
    "id": "SN10iQa3HELQ",
    "outputId": "ece26846-76b2-4b75-d386-aa857bb83cf8"
   },
   "outputs": [
    {
     "name": "stdout",
     "output_type": "stream",
     "text": [
      "--------------- Epoch: 1 ---------------\n",
      "Step: 1000,Train Loss: 0.130010,Val Loss: 0.186140\n",
      "Validation loss decreased (inf --> 0.186140).  Saving model ...\n",
      "Step: 2000,Train Loss: 0.149495,Val Loss: 0.183250\n",
      "Validation loss decreased (0.186140 --> 0.183250).  Saving model ...\n",
      "Step: 3000,Train Loss: 0.277802,Val Loss: 0.179787\n",
      "Validation loss decreased (0.183250 --> 0.179787).  Saving model ...\n",
      "Step: 4000,Train Loss: 0.154290,Val Loss: 0.177877\n",
      "Validation loss decreased (0.179787 --> 0.177877).  Saving model ...\n",
      "Step: 5000,Train Loss: 0.158344,Val Loss: 0.178531\n",
      "Step: 6000,Train Loss: 0.211532,Val Loss: 0.176543\n",
      "Validation loss decreased (0.177877 --> 0.176543).  Saving model ...\n",
      "Step: 7000,Train Loss: 0.133209,Val Loss: 0.175194\n",
      "Validation loss decreased (0.176543 --> 0.175194).  Saving model ...\n",
      "Step: 8000,Train Loss: 0.226627,Val Loss: 0.174407\n",
      "Validation loss decreased (0.175194 --> 0.174407).  Saving model ...\n",
      "Step: 9000,Train Loss: 0.187748,Val Loss: 0.172645\n",
      "Validation loss decreased (0.174407 --> 0.172645).  Saving model ...\n",
      "--------------- Epoch: 2 ---------------\n",
      "Step: 10000,Train Loss: 0.175206,Val Loss: 0.174537\n",
      "Step: 11000,Train Loss: 0.139462,Val Loss: 0.172539\n",
      "Validation loss decreased (0.172645 --> 0.172539).  Saving model ...\n",
      "Step: 12000,Train Loss: 0.116576,Val Loss: 0.169606\n",
      "Validation loss decreased (0.172539 --> 0.169606).  Saving model ...\n",
      "Step: 13000,Train Loss: 0.167312,Val Loss: 0.170795\n",
      "Step: 14000,Train Loss: 0.185532,Val Loss: 0.170240\n",
      "Step: 15000,Train Loss: 0.195814,Val Loss: 0.167254\n",
      "Validation loss decreased (0.169606 --> 0.167254).  Saving model ...\n",
      "Step: 16000,Train Loss: 0.171461,Val Loss: 0.169252\n",
      "Step: 17000,Train Loss: 0.183240,Val Loss: 0.166066\n",
      "Validation loss decreased (0.167254 --> 0.166066).  Saving model ...\n",
      "Step: 18000,Train Loss: 0.119156,Val Loss: 0.165093\n",
      "Validation loss decreased (0.166066 --> 0.165093).  Saving model ...\n",
      "--------------- Epoch: 3 ---------------\n",
      "Step: 19000,Train Loss: 0.113887,Val Loss: 0.166331\n",
      "Step: 20000,Train Loss: 0.137513,Val Loss: 0.165062\n",
      "Validation loss decreased (0.165093 --> 0.165062).  Saving model ...\n",
      "Step: 21000,Train Loss: 0.164216,Val Loss: 0.164049\n",
      "Validation loss decreased (0.165062 --> 0.164049).  Saving model ...\n",
      "Step: 22000,Train Loss: 0.168717,Val Loss: 0.163720\n",
      "Validation loss decreased (0.164049 --> 0.163720).  Saving model ...\n",
      "Step: 23000,Train Loss: 0.161127,Val Loss: 0.165055\n",
      "Step: 24000,Train Loss: 0.174650,Val Loss: 0.164241\n",
      "Step: 25000,Train Loss: 0.181234,Val Loss: 0.162368\n",
      "Validation loss decreased (0.163720 --> 0.162368).  Saving model ...\n",
      "Step: 26000,Train Loss: 0.184764,Val Loss: 0.170045\n",
      "Step: 27000,Train Loss: 0.134920,Val Loss: 0.165429\n",
      "--------------- Epoch: 4 ---------------\n",
      "Step: 28000,Train Loss: 0.110510,Val Loss: 0.162473\n",
      "Step: 29000,Train Loss: 0.100134,Val Loss: 0.163120\n",
      "Step: 30000,Train Loss: 0.195415,Val Loss: 0.161643\n",
      "Validation loss decreased (0.162368 --> 0.161643).  Saving model ...\n",
      "Step: 31000,Train Loss: 0.230407,Val Loss: 0.159604\n",
      "Validation loss decreased (0.161643 --> 0.159604).  Saving model ...\n",
      "Step: 32000,Train Loss: 0.107191,Val Loss: 0.160257\n",
      "Step: 33000,Train Loss: 0.245579,Val Loss: 0.159137\n",
      "Validation loss decreased (0.159604 --> 0.159137).  Saving model ...\n",
      "Step: 34000,Train Loss: 0.138476,Val Loss: 0.157116\n",
      "Validation loss decreased (0.159137 --> 0.157116).  Saving model ...\n",
      "Step: 35000,Train Loss: 0.220718,Val Loss: 0.157782\n",
      "Step: 36000,Train Loss: 0.137534,Val Loss: 0.161589\n"
     ]
    }
   ],
   "source": [
    "epochs = 4\n",
    "counter = 0\n",
    "valid_loss_min = np.Inf\n",
    "\n",
    "\n",
    "model.train()\n",
    "history_train = []\n",
    "history_test = []\n",
    "for i in range(epochs):\n",
    "    print(f\"--------------- Epoch: {i+1} ---------------\")\n",
    "    h = model.init_hidden(batch_size)\n",
    "    \n",
    "    for inputs, labels in train_loader:\n",
    "        counter += 1\n",
    "        h = tuple([e.data for e in h])\n",
    "        inputs, labels = inputs.to(device), labels.to(device)\n",
    "        # clear the gradient\n",
    "        model.zero_grad()\n",
    "        output, h = model(inputs, h)\n",
    "        loss = criterion(output.squeeze(), labels.float())\n",
    "        loss.backward()\n",
    "        # clip gradients computed during backpropagation to avoid explosion of gradients\n",
    "        nn.utils.clip_grad_norm_(model.parameters(), max_norm=5)\n",
    "        optimizer.step()\n",
    "        \n",
    "        if counter%1000 == 0:\n",
    "            val_h = model.init_hidden(batch_size)\n",
    "            val_losses = []\n",
    "            model.eval()\n",
    "            for inp, lab in val_loader:\n",
    "                val_h = tuple([each.data for each in val_h])\n",
    "                inp, lab = inp.to(device), lab.to(device)\n",
    "                out, val_h = model(inp, val_h)\n",
    "                val_loss = criterion(out.squeeze(), lab.float())\n",
    "                val_losses.append(val_loss.item())\n",
    "                \n",
    "            model.train()\n",
    "            history_train.append(round(loss.item(), 3))\n",
    "            history_test.append(round(np.mean(val_losses), 3))\n",
    "            print(f\"Step: {counter},Train Loss: {loss.item():.6f},Val Loss: {np.mean(val_losses):.6f}\")\n",
    "            if np.mean(val_losses) <= valid_loss_min:\n",
    "                torch.save(model.state_dict(), root_dir + 'best_model.pt')\n",
    "                print(f'Validation loss decreased ({valid_loss_min:.6f} --> {np.mean(val_losses):.6f}).  Saving model ...')\n",
    "                valid_loss_min = np.mean(val_losses)"
   ]
  },
  {
   "cell_type": "code",
   "execution_count": null,
   "id": "7c681833",
   "metadata": {
    "colab": {
     "base_uri": "https://localhost:8080/",
     "height": 295
    },
    "executionInfo": {
     "elapsed": 7,
     "status": "ok",
     "timestamp": 1659380360889,
     "user": {
      "displayName": "Yinglu Yang",
      "userId": "06798211007446135178"
     },
     "user_tz": -480
    },
    "id": "pXmFxVYjdc_8",
    "outputId": "6355c93c-e09a-490d-feef-50c24473c6ce"
   },
   "outputs": [
    {
     "data": {
      "image/png": "[encoded data removed]",
      "text/plain": [
       "<Figure size 432x288 with 1 Axes>"
      ]
     },
     "metadata": {
      "needs_background": "light"
     },
     "output_type": "display_data"
    }
   ],
   "source": [
    "import matplotlib.pyplot as plt\n",
    "plt.plot(history_train, label=\"train loss\")\n",
    "plt.plot(history_test, label=\"validation loss\")\n",
    "plt.xlabel(\"Step\")\n",
    "plt.ylabel(\"Loss\")\n",
    "plt.legend()\n",
    "plt.title(\"The loss of training set and validation set\")\n",
    "plt.show()"
   ]
  },
  {
   "cell_type": "markdown",
   "id": "30da45de",
   "metadata": {
    "id": "uTKLmlAUQ5hD"
   },
   "source": [
    "Test model"
   ]
  },
  {
   "cell_type": "code",
   "execution_count": 22,
   "id": "d0bcded0",
   "metadata": {
    "colab": {
     "base_uri": "https://localhost:8080/"
    },
    "executionInfo": {
     "elapsed": 1437,
     "status": "ok",
     "timestamp": 1659435189675,
     "user": {
      "displayName": "Yinglu Yang",
      "userId": "06798211007446135178"
     },
     "user_tz": -480
    },
    "id": "Jlh5fHxgHELQ",
    "outputId": "a7d07262-afbf-4cb0-c648-a21b905bfa8b"
   },
   "outputs": [
    {
     "name": "stdout",
     "output_type": "stream",
     "text": [
      "Test loss: 0.166\n",
      "Test accuracy: 94.150%\n"
     ]
    }
   ],
   "source": [
    "model.load_state_dict(torch.load(root_dir + 'LSTM_best_model.pt'))\n",
    "\n",
    "test_losses = []\n",
    "num_correct = 0\n",
    "h = model.init_hidden(batch_size)\n",
    "predicted_y = []\n",
    "\n",
    "model.eval()\n",
    "for inputs, labels in test_loader:\n",
    "    h = tuple([each.data for each in h])\n",
    "    inputs, labels = inputs.to(device), labels.to(device)\n",
    "    output, h = model(inputs, h)\n",
    "    test_loss = criterion(output.squeeze(), labels.float())\n",
    "    test_losses.append(test_loss.item())\n",
    "    pred = torch.round(output.squeeze()) #rounds the output to 0/1\n",
    "    for p in pred.tolist():\n",
    "      predicted_y.append(int(p))\n",
    "    correct_tensor = pred.eq(labels.float().view_as(pred))\n",
    "    correct = np.squeeze(correct_tensor.cpu().numpy())\n",
    "    num_correct += np.sum(correct)\n",
    "        \n",
    "print(f\"Test loss: {np.mean(test_losses):.3f}\")\n",
    "test_acc = num_correct/len(test_loader.dataset)\n",
    "print(f\"Test accuracy: {(test_acc*100):.3f}%\")"
   ]
  },
  {
   "cell_type": "code",
   "execution_count": 24,
   "id": "2d991494",
   "metadata": {
    "colab": {
     "base_uri": "https://localhost:8080/"
    },
    "executionInfo": {
     "elapsed": 512,
     "status": "ok",
     "timestamp": 1659435304890,
     "user": {
      "displayName": "Yinglu Yang",
      "userId": "06798211007446135178"
     },
     "user_tz": -480
    },
    "id": "d-g5ka6sC5Cu",
    "outputId": "0233a16e-725b-4eac-a7d4-d4e5598875e1",
    "scrolled": true
   },
   "outputs": [
    {
     "name": "stdout",
     "output_type": "stream",
     "text": [
      "              precision    recall  f1-score   support\n",
      "\n",
      "           0       0.95      0.94      0.94       994\n",
      "           1       0.94      0.95      0.94      1006\n",
      "\n",
      "    accuracy                           0.94      2000\n",
      "   macro avg       0.94      0.94      0.94      2000\n",
      "weighted avg       0.94      0.94      0.94      2000\n",
      "\n"
     ]
    }
   ],
   "source": [
    "from sklearn.metrics import classification_report\n",
    "report = classification_report(y_test, predicted_y)\n",
    "print(report)"
   ]
  },
  {
   "cell_type": "markdown",
   "id": "f4e35900",
   "metadata": {},
   "source": [
    "| | precision | recall | f1-score |\n",
    "|:--:|:--:|:--:|:--:|\n",
    "|0|0.95|0.94|0.94|\n",
    "|1|0.94|0.95|0.94|\n",
    "|accuracy | | |0.94|\n",
    "|weighted avg |0.94|0.94|0.94|"
   ]
  },
  {
   "cell_type": "code",
   "execution_count": 30,
   "id": "d87c15f8",
   "metadata": {
    "colab": {
     "base_uri": "https://localhost:8080/"
    },
    "executionInfo": {
     "elapsed": 3,
     "status": "ok",
     "timestamp": 1659436737013,
     "user": {
      "displayName": "Yinglu Yang",
      "userId": "06798211007446135178"
     },
     "user_tz": -480
    },
    "id": "_DbmCaYrDKJS",
    "outputId": "fdc91657-4f1b-460c-9143-6d9b149885be"
   },
   "outputs": [
    {
     "name": "stdout",
     "output_type": "stream",
     "text": [
      "confusion matrix\n",
      " [[930  64]\n",
      " [ 53 953]]\n"
     ]
    }
   ],
   "source": [
    "from sklearn.metrics import confusion_matrix\n",
    "con_matrix = confusion_matrix(y_test, predicted_y)\n",
    "print(\"confusion matrix\\n\", con_matrix)"
   ]
  },
  {
   "cell_type": "code",
   "execution_count": 32,
   "id": "5633cc83",
   "metadata": {
    "colab": {
     "base_uri": "https://localhost:8080/",
     "height": 281
    },
    "executionInfo": {
     "elapsed": 754,
     "status": "ok",
     "timestamp": 1659437022819,
     "user": {
      "displayName": "Yinglu Yang",
      "userId": "06798211007446135178"
     },
     "user_tz": -480
    },
    "id": "LDBzbc1KJo5A",
    "outputId": "ffa583bb-59e3-414f-c172-7a7409ba743d"
   },
   "outputs": [
    {
     "data": {
      "image/png": "[encoded data removed]",
      "text/plain": [
       "<Figure size 432x288 with 2 Axes>"
      ]
     },
     "metadata": {
      "needs_background": "light"
     },
     "output_type": "display_data"
    }
   ],
   "source": [
    "import seaborn as sns\n",
    "import matplotlib.pyplot as plt\n",
    "sns.heatmap(pd.DataFrame(classification_report(\n",
    "         y_test, predicted_y, zero_division=0.0,output_dict=True)).iloc[:-1, :].T, annot=True)\n",
    "plt.title('Classification report')\n",
    "plt.show()"
   ]
  },
  {
   "cell_type": "markdown",
   "id": "a9a207f9",
   "metadata": {
    "id": "qfnPhEyUIyt3"
   },
   "source": [
    "## Model Analysis"
   ]
  },
  {
   "cell_type": "markdown",
   "id": "fde1028c",
   "metadata": {
    "id": "Da6BVjF_JRgu"
   },
   "source": [
    "From the above classfication report and confusion matrix, it is obvious that micro and macro metircs are quite close, so this is a balance dataset.The original accuracy is 92.388%. But after all work have done, we changed the dropout from 0.5 to 0.2 to get a more optimal model. The accuracy of the new model is 94.15%, which is higher than 92.388%. This is probobaly beacuse the high dropout caused some information loss and LSTM failed to predict correctly. During the hyperparamter tuning, I changed the number of epochs and batch size manullay, the accuracy was always around 90% and it took 30 minutes to run each epoch. So there are still more I can improve in the future, I may use RandomSearchCV function to find much better parameters for LSTM model. "
   ]
  },
  {
   "cell_type": "code",
   "execution_count": null,
   "id": "97e9863d",
   "metadata": {},
   "outputs": [],
   "source": []
  }
 ],
 "metadata": {
  "accelerator": "GPU",
  "colab": {
   "collapsed_sections": [],
   "name": "9444_LSTM.ipynb",
   "provenance": []
  },
  "gpuClass": "standard",
  "kernelspec": {
   "display_name": "Python [conda env:pytorch]",
   "language": "python",
   "name": "conda-env-pytorch-py"
  },
  "language_info": {
   "codemirror_mode": {
    "name": "ipython",
    "version": 3
   },
   "file_extension": ".py",
   "mimetype": "text/x-python",
   "name": "python",
   "nbconvert_exporter": "python",
   "pygments_lexer": "ipython3",
   "version": "3.9.12"
  }
 },
 "nbformat": 4,
 "nbformat_minor": 5
}
